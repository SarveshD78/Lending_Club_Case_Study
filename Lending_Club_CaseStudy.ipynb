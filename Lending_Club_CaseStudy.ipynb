{
  "nbformat": 4,
  "nbformat_minor": 0,
  "metadata": {
    "colab": {
      "provenance": [],
      "toc_visible": true
    },
    "kernelspec": {
      "name": "python3",
      "display_name": "Python 3"
    },
    "language_info": {
      "name": "python"
    }
  },
  "cells": [
    {
      "cell_type": "markdown",
      "source": [
        "# Setup"
      ],
      "metadata": {
        "id": "4WLC2impNmuD"
      }
    },
    {
      "cell_type": "code",
      "execution_count": 1,
      "metadata": {
        "id": "n2DHpL9rr7_j"
      },
      "outputs": [],
      "source": [
        "## import required libraries\n",
        "import numpy as np\n",
        "import pandas as pd\n",
        "import matplotlib.pyplot as plt\n",
        "import seaborn as sns\n",
        "import warnings\n",
        "warnings.filterwarnings('ignore')\n"
      ]
    },
    {
      "cell_type": "code",
      "source": [
        "## Read data csv file\n",
        "loan_df = pd.read_csv(\"loan.csv\")"
      ],
      "metadata": {
        "id": "GC1-ux1V0gMg"
      },
      "execution_count": 2,
      "outputs": []
    },
    {
      "cell_type": "code",
      "source": [
        "loan_df.head()"
      ],
      "metadata": {
        "colab": {
          "base_uri": "https://localhost:8080/",
          "height": 386
        },
        "id": "vTAe4Rkm0u52",
        "outputId": "54b47c84-88e2-497f-9671-5683556f5b37"
      },
      "execution_count": 3,
      "outputs": [
        {
          "output_type": "execute_result",
          "data": {
            "text/plain": [
              "        id  member_id  loan_amnt  funded_amnt  funded_amnt_inv        term  \\\n",
              "0  1077501    1296599       5000         5000           4975.0   36 months   \n",
              "1  1077430    1314167       2500         2500           2500.0   60 months   \n",
              "2  1077175    1313524       2400         2400           2400.0   36 months   \n",
              "3  1076863    1277178      10000        10000          10000.0   36 months   \n",
              "4  1075358    1311748       3000         3000           3000.0   60 months   \n",
              "\n",
              "  int_rate  installment grade sub_grade  ... num_tl_90g_dpd_24m  \\\n",
              "0   10.65%       162.87     B        B2  ...                NaN   \n",
              "1   15.27%        59.83     C        C4  ...                NaN   \n",
              "2   15.96%        84.33     C        C5  ...                NaN   \n",
              "3   13.49%       339.31     C        C1  ...                NaN   \n",
              "4   12.69%        67.79     B        B5  ...                NaN   \n",
              "\n",
              "  num_tl_op_past_12m pct_tl_nvr_dlq  percent_bc_gt_75 pub_rec_bankruptcies  \\\n",
              "0                NaN            NaN               NaN                  0.0   \n",
              "1                NaN            NaN               NaN                  0.0   \n",
              "2                NaN            NaN               NaN                  0.0   \n",
              "3                NaN            NaN               NaN                  0.0   \n",
              "4                NaN            NaN               NaN                  0.0   \n",
              "\n",
              "  tax_liens tot_hi_cred_lim total_bal_ex_mort total_bc_limit  \\\n",
              "0       0.0             NaN               NaN            NaN   \n",
              "1       0.0             NaN               NaN            NaN   \n",
              "2       0.0             NaN               NaN            NaN   \n",
              "3       0.0             NaN               NaN            NaN   \n",
              "4       0.0             NaN               NaN            NaN   \n",
              "\n",
              "  total_il_high_credit_limit  \n",
              "0                        NaN  \n",
              "1                        NaN  \n",
              "2                        NaN  \n",
              "3                        NaN  \n",
              "4                        NaN  \n",
              "\n",
              "[5 rows x 111 columns]"
            ],
            "text/html": [
              "\n",
              "  <div id=\"df-82542fdc-e714-424b-8bc6-a1f5a056f266\">\n",
              "    <div class=\"colab-df-container\">\n",
              "      <div>\n",
              "<style scoped>\n",
              "    .dataframe tbody tr th:only-of-type {\n",
              "        vertical-align: middle;\n",
              "    }\n",
              "\n",
              "    .dataframe tbody tr th {\n",
              "        vertical-align: top;\n",
              "    }\n",
              "\n",
              "    .dataframe thead th {\n",
              "        text-align: right;\n",
              "    }\n",
              "</style>\n",
              "<table border=\"1\" class=\"dataframe\">\n",
              "  <thead>\n",
              "    <tr style=\"text-align: right;\">\n",
              "      <th></th>\n",
              "      <th>id</th>\n",
              "      <th>member_id</th>\n",
              "      <th>loan_amnt</th>\n",
              "      <th>funded_amnt</th>\n",
              "      <th>funded_amnt_inv</th>\n",
              "      <th>term</th>\n",
              "      <th>int_rate</th>\n",
              "      <th>installment</th>\n",
              "      <th>grade</th>\n",
              "      <th>sub_grade</th>\n",
              "      <th>...</th>\n",
              "      <th>num_tl_90g_dpd_24m</th>\n",
              "      <th>num_tl_op_past_12m</th>\n",
              "      <th>pct_tl_nvr_dlq</th>\n",
              "      <th>percent_bc_gt_75</th>\n",
              "      <th>pub_rec_bankruptcies</th>\n",
              "      <th>tax_liens</th>\n",
              "      <th>tot_hi_cred_lim</th>\n",
              "      <th>total_bal_ex_mort</th>\n",
              "      <th>total_bc_limit</th>\n",
              "      <th>total_il_high_credit_limit</th>\n",
              "    </tr>\n",
              "  </thead>\n",
              "  <tbody>\n",
              "    <tr>\n",
              "      <th>0</th>\n",
              "      <td>1077501</td>\n",
              "      <td>1296599</td>\n",
              "      <td>5000</td>\n",
              "      <td>5000</td>\n",
              "      <td>4975.0</td>\n",
              "      <td>36 months</td>\n",
              "      <td>10.65%</td>\n",
              "      <td>162.87</td>\n",
              "      <td>B</td>\n",
              "      <td>B2</td>\n",
              "      <td>...</td>\n",
              "      <td>NaN</td>\n",
              "      <td>NaN</td>\n",
              "      <td>NaN</td>\n",
              "      <td>NaN</td>\n",
              "      <td>0.0</td>\n",
              "      <td>0.0</td>\n",
              "      <td>NaN</td>\n",
              "      <td>NaN</td>\n",
              "      <td>NaN</td>\n",
              "      <td>NaN</td>\n",
              "    </tr>\n",
              "    <tr>\n",
              "      <th>1</th>\n",
              "      <td>1077430</td>\n",
              "      <td>1314167</td>\n",
              "      <td>2500</td>\n",
              "      <td>2500</td>\n",
              "      <td>2500.0</td>\n",
              "      <td>60 months</td>\n",
              "      <td>15.27%</td>\n",
              "      <td>59.83</td>\n",
              "      <td>C</td>\n",
              "      <td>C4</td>\n",
              "      <td>...</td>\n",
              "      <td>NaN</td>\n",
              "      <td>NaN</td>\n",
              "      <td>NaN</td>\n",
              "      <td>NaN</td>\n",
              "      <td>0.0</td>\n",
              "      <td>0.0</td>\n",
              "      <td>NaN</td>\n",
              "      <td>NaN</td>\n",
              "      <td>NaN</td>\n",
              "      <td>NaN</td>\n",
              "    </tr>\n",
              "    <tr>\n",
              "      <th>2</th>\n",
              "      <td>1077175</td>\n",
              "      <td>1313524</td>\n",
              "      <td>2400</td>\n",
              "      <td>2400</td>\n",
              "      <td>2400.0</td>\n",
              "      <td>36 months</td>\n",
              "      <td>15.96%</td>\n",
              "      <td>84.33</td>\n",
              "      <td>C</td>\n",
              "      <td>C5</td>\n",
              "      <td>...</td>\n",
              "      <td>NaN</td>\n",
              "      <td>NaN</td>\n",
              "      <td>NaN</td>\n",
              "      <td>NaN</td>\n",
              "      <td>0.0</td>\n",
              "      <td>0.0</td>\n",
              "      <td>NaN</td>\n",
              "      <td>NaN</td>\n",
              "      <td>NaN</td>\n",
              "      <td>NaN</td>\n",
              "    </tr>\n",
              "    <tr>\n",
              "      <th>3</th>\n",
              "      <td>1076863</td>\n",
              "      <td>1277178</td>\n",
              "      <td>10000</td>\n",
              "      <td>10000</td>\n",
              "      <td>10000.0</td>\n",
              "      <td>36 months</td>\n",
              "      <td>13.49%</td>\n",
              "      <td>339.31</td>\n",
              "      <td>C</td>\n",
              "      <td>C1</td>\n",
              "      <td>...</td>\n",
              "      <td>NaN</td>\n",
              "      <td>NaN</td>\n",
              "      <td>NaN</td>\n",
              "      <td>NaN</td>\n",
              "      <td>0.0</td>\n",
              "      <td>0.0</td>\n",
              "      <td>NaN</td>\n",
              "      <td>NaN</td>\n",
              "      <td>NaN</td>\n",
              "      <td>NaN</td>\n",
              "    </tr>\n",
              "    <tr>\n",
              "      <th>4</th>\n",
              "      <td>1075358</td>\n",
              "      <td>1311748</td>\n",
              "      <td>3000</td>\n",
              "      <td>3000</td>\n",
              "      <td>3000.0</td>\n",
              "      <td>60 months</td>\n",
              "      <td>12.69%</td>\n",
              "      <td>67.79</td>\n",
              "      <td>B</td>\n",
              "      <td>B5</td>\n",
              "      <td>...</td>\n",
              "      <td>NaN</td>\n",
              "      <td>NaN</td>\n",
              "      <td>NaN</td>\n",
              "      <td>NaN</td>\n",
              "      <td>0.0</td>\n",
              "      <td>0.0</td>\n",
              "      <td>NaN</td>\n",
              "      <td>NaN</td>\n",
              "      <td>NaN</td>\n",
              "      <td>NaN</td>\n",
              "    </tr>\n",
              "  </tbody>\n",
              "</table>\n",
              "<p>5 rows × 111 columns</p>\n",
              "</div>\n",
              "      <button class=\"colab-df-convert\" onclick=\"convertToInteractive('df-82542fdc-e714-424b-8bc6-a1f5a056f266')\"\n",
              "              title=\"Convert this dataframe to an interactive table.\"\n",
              "              style=\"display:none;\">\n",
              "        \n",
              "  <svg xmlns=\"http://www.w3.org/2000/svg\" height=\"24px\"viewBox=\"0 0 24 24\"\n",
              "       width=\"24px\">\n",
              "    <path d=\"M0 0h24v24H0V0z\" fill=\"none\"/>\n",
              "    <path d=\"M18.56 5.44l.94 2.06.94-2.06 2.06-.94-2.06-.94-.94-2.06-.94 2.06-2.06.94zm-11 1L8.5 8.5l.94-2.06 2.06-.94-2.06-.94L8.5 2.5l-.94 2.06-2.06.94zm10 10l.94 2.06.94-2.06 2.06-.94-2.06-.94-.94-2.06-.94 2.06-2.06.94z\"/><path d=\"M17.41 7.96l-1.37-1.37c-.4-.4-.92-.59-1.43-.59-.52 0-1.04.2-1.43.59L10.3 9.45l-7.72 7.72c-.78.78-.78 2.05 0 2.83L4 21.41c.39.39.9.59 1.41.59.51 0 1.02-.2 1.41-.59l7.78-7.78 2.81-2.81c.8-.78.8-2.07 0-2.86zM5.41 20L4 18.59l7.72-7.72 1.47 1.35L5.41 20z\"/>\n",
              "  </svg>\n",
              "      </button>\n",
              "      \n",
              "  <style>\n",
              "    .colab-df-container {\n",
              "      display:flex;\n",
              "      flex-wrap:wrap;\n",
              "      gap: 12px;\n",
              "    }\n",
              "\n",
              "    .colab-df-convert {\n",
              "      background-color: #E8F0FE;\n",
              "      border: none;\n",
              "      border-radius: 50%;\n",
              "      cursor: pointer;\n",
              "      display: none;\n",
              "      fill: #1967D2;\n",
              "      height: 32px;\n",
              "      padding: 0 0 0 0;\n",
              "      width: 32px;\n",
              "    }\n",
              "\n",
              "    .colab-df-convert:hover {\n",
              "      background-color: #E2EBFA;\n",
              "      box-shadow: 0px 1px 2px rgba(60, 64, 67, 0.3), 0px 1px 3px 1px rgba(60, 64, 67, 0.15);\n",
              "      fill: #174EA6;\n",
              "    }\n",
              "\n",
              "    [theme=dark] .colab-df-convert {\n",
              "      background-color: #3B4455;\n",
              "      fill: #D2E3FC;\n",
              "    }\n",
              "\n",
              "    [theme=dark] .colab-df-convert:hover {\n",
              "      background-color: #434B5C;\n",
              "      box-shadow: 0px 1px 3px 1px rgba(0, 0, 0, 0.15);\n",
              "      filter: drop-shadow(0px 1px 2px rgba(0, 0, 0, 0.3));\n",
              "      fill: #FFFFFF;\n",
              "    }\n",
              "  </style>\n",
              "\n",
              "      <script>\n",
              "        const buttonEl =\n",
              "          document.querySelector('#df-82542fdc-e714-424b-8bc6-a1f5a056f266 button.colab-df-convert');\n",
              "        buttonEl.style.display =\n",
              "          google.colab.kernel.accessAllowed ? 'block' : 'none';\n",
              "\n",
              "        async function convertToInteractive(key) {\n",
              "          const element = document.querySelector('#df-82542fdc-e714-424b-8bc6-a1f5a056f266');\n",
              "          const dataTable =\n",
              "            await google.colab.kernel.invokeFunction('convertToInteractive',\n",
              "                                                     [key], {});\n",
              "          if (!dataTable) return;\n",
              "\n",
              "          const docLinkHtml = 'Like what you see? Visit the ' +\n",
              "            '<a target=\"_blank\" href=https://colab.research.google.com/notebooks/data_table.ipynb>data table notebook</a>'\n",
              "            + ' to learn more about interactive tables.';\n",
              "          element.innerHTML = '';\n",
              "          dataTable['output_type'] = 'display_data';\n",
              "          await google.colab.output.renderOutput(dataTable, element);\n",
              "          const docLink = document.createElement('div');\n",
              "          docLink.innerHTML = docLinkHtml;\n",
              "          element.appendChild(docLink);\n",
              "        }\n",
              "      </script>\n",
              "    </div>\n",
              "  </div>\n",
              "  "
            ]
          },
          "metadata": {},
          "execution_count": 3
        }
      ]
    },
    {
      "cell_type": "markdown",
      "source": [
        "# Understanding Data\n",
        "\n",
        "\n"
      ],
      "metadata": {
        "id": "PfEqL4301YqH"
      }
    },
    {
      "cell_type": "code",
      "source": [
        "loan_df.shape"
      ],
      "metadata": {
        "colab": {
          "base_uri": "https://localhost:8080/"
        },
        "id": "_aqNDTmu1OeQ",
        "outputId": "815944fe-6ad0-46f0-85a3-25da921fad8e"
      },
      "execution_count": 4,
      "outputs": [
        {
          "output_type": "execute_result",
          "data": {
            "text/plain": [
              "(39717, 111)"
            ]
          },
          "metadata": {},
          "execution_count": 4
        }
      ]
    },
    {
      "cell_type": "code",
      "source": [
        "loan_df.info()"
      ],
      "metadata": {
        "colab": {
          "base_uri": "https://localhost:8080/"
        },
        "id": "qoeXSFXO4Olf",
        "outputId": "006bc182-e94c-42b3-c5ba-d810028e06b1"
      },
      "execution_count": 5,
      "outputs": [
        {
          "output_type": "stream",
          "name": "stdout",
          "text": [
            "<class 'pandas.core.frame.DataFrame'>\n",
            "RangeIndex: 39717 entries, 0 to 39716\n",
            "Columns: 111 entries, id to total_il_high_credit_limit\n",
            "dtypes: float64(74), int64(13), object(24)\n",
            "memory usage: 33.6+ MB\n"
          ]
        }
      ]
    },
    {
      "cell_type": "code",
      "source": [
        "loan_df.isnull().sum()"
      ],
      "metadata": {
        "colab": {
          "base_uri": "https://localhost:8080/"
        },
        "id": "dgCENwhN2uSr",
        "outputId": "ea0ef5ea-bc68-4eca-dadc-396b2d2967cb"
      },
      "execution_count": 6,
      "outputs": [
        {
          "output_type": "execute_result",
          "data": {
            "text/plain": [
              "id                                0\n",
              "member_id                         0\n",
              "loan_amnt                         0\n",
              "funded_amnt                       0\n",
              "funded_amnt_inv                   0\n",
              "                              ...  \n",
              "tax_liens                        39\n",
              "tot_hi_cred_lim               39717\n",
              "total_bal_ex_mort             39717\n",
              "total_bc_limit                39717\n",
              "total_il_high_credit_limit    39717\n",
              "Length: 111, dtype: int64"
            ]
          },
          "metadata": {},
          "execution_count": 6
        }
      ]
    },
    {
      "cell_type": "markdown",
      "source": [
        "\n",
        "We observed that there are a lot of columns with all null values.\n",
        "\n",
        "*   id\n",
        "*   member_id\n",
        "*   loan_amnt\n",
        "ETC,\n",
        "\n",
        "\n",
        "\n"
      ],
      "metadata": {
        "id": "L-oeX-y_3Vez"
      }
    },
    {
      "cell_type": "code",
      "source": [
        "## Removing Columns with null values\n",
        "loan_df.dropna(axis = 1, how = 'all', inplace = True)"
      ],
      "metadata": {
        "id": "JPhGaswa3KNN"
      },
      "execution_count": 7,
      "outputs": []
    },
    {
      "cell_type": "code",
      "source": [
        "loan_df.head()"
      ],
      "metadata": {
        "colab": {
          "base_uri": "https://localhost:8080/",
          "height": 386
        },
        "id": "M9ScaPDo37jP",
        "outputId": "6a018d36-1167-426c-bac3-ecb58d6c9f69"
      },
      "execution_count": 8,
      "outputs": [
        {
          "output_type": "execute_result",
          "data": {
            "text/plain": [
              "        id  member_id  loan_amnt  funded_amnt  funded_amnt_inv        term  \\\n",
              "0  1077501    1296599       5000         5000           4975.0   36 months   \n",
              "1  1077430    1314167       2500         2500           2500.0   60 months   \n",
              "2  1077175    1313524       2400         2400           2400.0   36 months   \n",
              "3  1076863    1277178      10000        10000          10000.0   36 months   \n",
              "4  1075358    1311748       3000         3000           3000.0   60 months   \n",
              "\n",
              "  int_rate  installment grade sub_grade  ... next_pymnt_d last_credit_pull_d  \\\n",
              "0   10.65%       162.87     B        B2  ...          NaN             May-16   \n",
              "1   15.27%        59.83     C        C4  ...          NaN             Sep-13   \n",
              "2   15.96%        84.33     C        C5  ...          NaN             May-16   \n",
              "3   13.49%       339.31     C        C1  ...          NaN             Apr-16   \n",
              "4   12.69%        67.79     B        B5  ...       Jun-16             May-16   \n",
              "\n",
              "  collections_12_mths_ex_med  policy_code application_type acc_now_delinq  \\\n",
              "0                        0.0            1       INDIVIDUAL              0   \n",
              "1                        0.0            1       INDIVIDUAL              0   \n",
              "2                        0.0            1       INDIVIDUAL              0   \n",
              "3                        0.0            1       INDIVIDUAL              0   \n",
              "4                        0.0            1       INDIVIDUAL              0   \n",
              "\n",
              "  chargeoff_within_12_mths delinq_amnt pub_rec_bankruptcies tax_liens  \n",
              "0                      0.0           0                  0.0       0.0  \n",
              "1                      0.0           0                  0.0       0.0  \n",
              "2                      0.0           0                  0.0       0.0  \n",
              "3                      0.0           0                  0.0       0.0  \n",
              "4                      0.0           0                  0.0       0.0  \n",
              "\n",
              "[5 rows x 57 columns]"
            ],
            "text/html": [
              "\n",
              "  <div id=\"df-73025de8-3543-43ea-811b-798264c69988\">\n",
              "    <div class=\"colab-df-container\">\n",
              "      <div>\n",
              "<style scoped>\n",
              "    .dataframe tbody tr th:only-of-type {\n",
              "        vertical-align: middle;\n",
              "    }\n",
              "\n",
              "    .dataframe tbody tr th {\n",
              "        vertical-align: top;\n",
              "    }\n",
              "\n",
              "    .dataframe thead th {\n",
              "        text-align: right;\n",
              "    }\n",
              "</style>\n",
              "<table border=\"1\" class=\"dataframe\">\n",
              "  <thead>\n",
              "    <tr style=\"text-align: right;\">\n",
              "      <th></th>\n",
              "      <th>id</th>\n",
              "      <th>member_id</th>\n",
              "      <th>loan_amnt</th>\n",
              "      <th>funded_amnt</th>\n",
              "      <th>funded_amnt_inv</th>\n",
              "      <th>term</th>\n",
              "      <th>int_rate</th>\n",
              "      <th>installment</th>\n",
              "      <th>grade</th>\n",
              "      <th>sub_grade</th>\n",
              "      <th>...</th>\n",
              "      <th>next_pymnt_d</th>\n",
              "      <th>last_credit_pull_d</th>\n",
              "      <th>collections_12_mths_ex_med</th>\n",
              "      <th>policy_code</th>\n",
              "      <th>application_type</th>\n",
              "      <th>acc_now_delinq</th>\n",
              "      <th>chargeoff_within_12_mths</th>\n",
              "      <th>delinq_amnt</th>\n",
              "      <th>pub_rec_bankruptcies</th>\n",
              "      <th>tax_liens</th>\n",
              "    </tr>\n",
              "  </thead>\n",
              "  <tbody>\n",
              "    <tr>\n",
              "      <th>0</th>\n",
              "      <td>1077501</td>\n",
              "      <td>1296599</td>\n",
              "      <td>5000</td>\n",
              "      <td>5000</td>\n",
              "      <td>4975.0</td>\n",
              "      <td>36 months</td>\n",
              "      <td>10.65%</td>\n",
              "      <td>162.87</td>\n",
              "      <td>B</td>\n",
              "      <td>B2</td>\n",
              "      <td>...</td>\n",
              "      <td>NaN</td>\n",
              "      <td>May-16</td>\n",
              "      <td>0.0</td>\n",
              "      <td>1</td>\n",
              "      <td>INDIVIDUAL</td>\n",
              "      <td>0</td>\n",
              "      <td>0.0</td>\n",
              "      <td>0</td>\n",
              "      <td>0.0</td>\n",
              "      <td>0.0</td>\n",
              "    </tr>\n",
              "    <tr>\n",
              "      <th>1</th>\n",
              "      <td>1077430</td>\n",
              "      <td>1314167</td>\n",
              "      <td>2500</td>\n",
              "      <td>2500</td>\n",
              "      <td>2500.0</td>\n",
              "      <td>60 months</td>\n",
              "      <td>15.27%</td>\n",
              "      <td>59.83</td>\n",
              "      <td>C</td>\n",
              "      <td>C4</td>\n",
              "      <td>...</td>\n",
              "      <td>NaN</td>\n",
              "      <td>Sep-13</td>\n",
              "      <td>0.0</td>\n",
              "      <td>1</td>\n",
              "      <td>INDIVIDUAL</td>\n",
              "      <td>0</td>\n",
              "      <td>0.0</td>\n",
              "      <td>0</td>\n",
              "      <td>0.0</td>\n",
              "      <td>0.0</td>\n",
              "    </tr>\n",
              "    <tr>\n",
              "      <th>2</th>\n",
              "      <td>1077175</td>\n",
              "      <td>1313524</td>\n",
              "      <td>2400</td>\n",
              "      <td>2400</td>\n",
              "      <td>2400.0</td>\n",
              "      <td>36 months</td>\n",
              "      <td>15.96%</td>\n",
              "      <td>84.33</td>\n",
              "      <td>C</td>\n",
              "      <td>C5</td>\n",
              "      <td>...</td>\n",
              "      <td>NaN</td>\n",
              "      <td>May-16</td>\n",
              "      <td>0.0</td>\n",
              "      <td>1</td>\n",
              "      <td>INDIVIDUAL</td>\n",
              "      <td>0</td>\n",
              "      <td>0.0</td>\n",
              "      <td>0</td>\n",
              "      <td>0.0</td>\n",
              "      <td>0.0</td>\n",
              "    </tr>\n",
              "    <tr>\n",
              "      <th>3</th>\n",
              "      <td>1076863</td>\n",
              "      <td>1277178</td>\n",
              "      <td>10000</td>\n",
              "      <td>10000</td>\n",
              "      <td>10000.0</td>\n",
              "      <td>36 months</td>\n",
              "      <td>13.49%</td>\n",
              "      <td>339.31</td>\n",
              "      <td>C</td>\n",
              "      <td>C1</td>\n",
              "      <td>...</td>\n",
              "      <td>NaN</td>\n",
              "      <td>Apr-16</td>\n",
              "      <td>0.0</td>\n",
              "      <td>1</td>\n",
              "      <td>INDIVIDUAL</td>\n",
              "      <td>0</td>\n",
              "      <td>0.0</td>\n",
              "      <td>0</td>\n",
              "      <td>0.0</td>\n",
              "      <td>0.0</td>\n",
              "    </tr>\n",
              "    <tr>\n",
              "      <th>4</th>\n",
              "      <td>1075358</td>\n",
              "      <td>1311748</td>\n",
              "      <td>3000</td>\n",
              "      <td>3000</td>\n",
              "      <td>3000.0</td>\n",
              "      <td>60 months</td>\n",
              "      <td>12.69%</td>\n",
              "      <td>67.79</td>\n",
              "      <td>B</td>\n",
              "      <td>B5</td>\n",
              "      <td>...</td>\n",
              "      <td>Jun-16</td>\n",
              "      <td>May-16</td>\n",
              "      <td>0.0</td>\n",
              "      <td>1</td>\n",
              "      <td>INDIVIDUAL</td>\n",
              "      <td>0</td>\n",
              "      <td>0.0</td>\n",
              "      <td>0</td>\n",
              "      <td>0.0</td>\n",
              "      <td>0.0</td>\n",
              "    </tr>\n",
              "  </tbody>\n",
              "</table>\n",
              "<p>5 rows × 57 columns</p>\n",
              "</div>\n",
              "      <button class=\"colab-df-convert\" onclick=\"convertToInteractive('df-73025de8-3543-43ea-811b-798264c69988')\"\n",
              "              title=\"Convert this dataframe to an interactive table.\"\n",
              "              style=\"display:none;\">\n",
              "        \n",
              "  <svg xmlns=\"http://www.w3.org/2000/svg\" height=\"24px\"viewBox=\"0 0 24 24\"\n",
              "       width=\"24px\">\n",
              "    <path d=\"M0 0h24v24H0V0z\" fill=\"none\"/>\n",
              "    <path d=\"M18.56 5.44l.94 2.06.94-2.06 2.06-.94-2.06-.94-.94-2.06-.94 2.06-2.06.94zm-11 1L8.5 8.5l.94-2.06 2.06-.94-2.06-.94L8.5 2.5l-.94 2.06-2.06.94zm10 10l.94 2.06.94-2.06 2.06-.94-2.06-.94-.94-2.06-.94 2.06-2.06.94z\"/><path d=\"M17.41 7.96l-1.37-1.37c-.4-.4-.92-.59-1.43-.59-.52 0-1.04.2-1.43.59L10.3 9.45l-7.72 7.72c-.78.78-.78 2.05 0 2.83L4 21.41c.39.39.9.59 1.41.59.51 0 1.02-.2 1.41-.59l7.78-7.78 2.81-2.81c.8-.78.8-2.07 0-2.86zM5.41 20L4 18.59l7.72-7.72 1.47 1.35L5.41 20z\"/>\n",
              "  </svg>\n",
              "      </button>\n",
              "      \n",
              "  <style>\n",
              "    .colab-df-container {\n",
              "      display:flex;\n",
              "      flex-wrap:wrap;\n",
              "      gap: 12px;\n",
              "    }\n",
              "\n",
              "    .colab-df-convert {\n",
              "      background-color: #E8F0FE;\n",
              "      border: none;\n",
              "      border-radius: 50%;\n",
              "      cursor: pointer;\n",
              "      display: none;\n",
              "      fill: #1967D2;\n",
              "      height: 32px;\n",
              "      padding: 0 0 0 0;\n",
              "      width: 32px;\n",
              "    }\n",
              "\n",
              "    .colab-df-convert:hover {\n",
              "      background-color: #E2EBFA;\n",
              "      box-shadow: 0px 1px 2px rgba(60, 64, 67, 0.3), 0px 1px 3px 1px rgba(60, 64, 67, 0.15);\n",
              "      fill: #174EA6;\n",
              "    }\n",
              "\n",
              "    [theme=dark] .colab-df-convert {\n",
              "      background-color: #3B4455;\n",
              "      fill: #D2E3FC;\n",
              "    }\n",
              "\n",
              "    [theme=dark] .colab-df-convert:hover {\n",
              "      background-color: #434B5C;\n",
              "      box-shadow: 0px 1px 3px 1px rgba(0, 0, 0, 0.15);\n",
              "      filter: drop-shadow(0px 1px 2px rgba(0, 0, 0, 0.3));\n",
              "      fill: #FFFFFF;\n",
              "    }\n",
              "  </style>\n",
              "\n",
              "      <script>\n",
              "        const buttonEl =\n",
              "          document.querySelector('#df-73025de8-3543-43ea-811b-798264c69988 button.colab-df-convert');\n",
              "        buttonEl.style.display =\n",
              "          google.colab.kernel.accessAllowed ? 'block' : 'none';\n",
              "\n",
              "        async function convertToInteractive(key) {\n",
              "          const element = document.querySelector('#df-73025de8-3543-43ea-811b-798264c69988');\n",
              "          const dataTable =\n",
              "            await google.colab.kernel.invokeFunction('convertToInteractive',\n",
              "                                                     [key], {});\n",
              "          if (!dataTable) return;\n",
              "\n",
              "          const docLinkHtml = 'Like what you see? Visit the ' +\n",
              "            '<a target=\"_blank\" href=https://colab.research.google.com/notebooks/data_table.ipynb>data table notebook</a>'\n",
              "            + ' to learn more about interactive tables.';\n",
              "          element.innerHTML = '';\n",
              "          dataTable['output_type'] = 'display_data';\n",
              "          await google.colab.output.renderOutput(dataTable, element);\n",
              "          const docLink = document.createElement('div');\n",
              "          docLink.innerHTML = docLinkHtml;\n",
              "          element.appendChild(docLink);\n",
              "        }\n",
              "      </script>\n",
              "    </div>\n",
              "  </div>\n",
              "  "
            ]
          },
          "metadata": {},
          "execution_count": 8
        }
      ]
    },
    {
      "cell_type": "markdown",
      "source": [
        "\n",
        "There are several columns which can not contribute in our case study analysis in any way so remove it which has single value"
      ],
      "metadata": {
        "id": "NFMNem8k4ia-"
      }
    },
    {
      "cell_type": "code",
      "source": [
        "loan_df.drop(['pymnt_plan', \"initial_list_status\",'collections_12_mths_ex_med','policy_code','acc_now_delinq', 'application_type', 'pub_rec_bankruptcies', 'tax_liens', 'delinq_amnt'], axis = 1, inplace = True)\n",
        "loan_df.head()"
      ],
      "metadata": {
        "colab": {
          "base_uri": "https://localhost:8080/",
          "height": 386
        },
        "id": "BkriHcxf3_hz",
        "outputId": "09fc395b-e5e9-4a33-b012-342c2dfa51c3"
      },
      "execution_count": 9,
      "outputs": [
        {
          "output_type": "execute_result",
          "data": {
            "text/plain": [
              "        id  member_id  loan_amnt  funded_amnt  funded_amnt_inv        term  \\\n",
              "0  1077501    1296599       5000         5000           4975.0   36 months   \n",
              "1  1077430    1314167       2500         2500           2500.0   60 months   \n",
              "2  1077175    1313524       2400         2400           2400.0   36 months   \n",
              "3  1076863    1277178      10000        10000          10000.0   36 months   \n",
              "4  1075358    1311748       3000         3000           3000.0   60 months   \n",
              "\n",
              "  int_rate  installment grade sub_grade  ... total_rec_prncp total_rec_int  \\\n",
              "0   10.65%       162.87     B        B2  ...         5000.00        863.16   \n",
              "1   15.27%        59.83     C        C4  ...          456.46        435.17   \n",
              "2   15.96%        84.33     C        C5  ...         2400.00        605.67   \n",
              "3   13.49%       339.31     C        C1  ...        10000.00       2214.92   \n",
              "4   12.69%        67.79     B        B5  ...         2475.94       1037.39   \n",
              "\n",
              "  total_rec_late_fee  recoveries collection_recovery_fee last_pymnt_d  \\\n",
              "0               0.00        0.00                    0.00       Jan-15   \n",
              "1               0.00      117.08                    1.11       Apr-13   \n",
              "2               0.00        0.00                    0.00       Jun-14   \n",
              "3              16.97        0.00                    0.00       Jan-15   \n",
              "4               0.00        0.00                    0.00       May-16   \n",
              "\n",
              "  last_pymnt_amnt next_pymnt_d last_credit_pull_d chargeoff_within_12_mths  \n",
              "0          171.62          NaN             May-16                      0.0  \n",
              "1          119.66          NaN             Sep-13                      0.0  \n",
              "2          649.91          NaN             May-16                      0.0  \n",
              "3          357.48          NaN             Apr-16                      0.0  \n",
              "4           67.79       Jun-16             May-16                      0.0  \n",
              "\n",
              "[5 rows x 48 columns]"
            ],
            "text/html": [
              "\n",
              "  <div id=\"df-2e2ab562-3433-488f-a05a-90f560a13d37\">\n",
              "    <div class=\"colab-df-container\">\n",
              "      <div>\n",
              "<style scoped>\n",
              "    .dataframe tbody tr th:only-of-type {\n",
              "        vertical-align: middle;\n",
              "    }\n",
              "\n",
              "    .dataframe tbody tr th {\n",
              "        vertical-align: top;\n",
              "    }\n",
              "\n",
              "    .dataframe thead th {\n",
              "        text-align: right;\n",
              "    }\n",
              "</style>\n",
              "<table border=\"1\" class=\"dataframe\">\n",
              "  <thead>\n",
              "    <tr style=\"text-align: right;\">\n",
              "      <th></th>\n",
              "      <th>id</th>\n",
              "      <th>member_id</th>\n",
              "      <th>loan_amnt</th>\n",
              "      <th>funded_amnt</th>\n",
              "      <th>funded_amnt_inv</th>\n",
              "      <th>term</th>\n",
              "      <th>int_rate</th>\n",
              "      <th>installment</th>\n",
              "      <th>grade</th>\n",
              "      <th>sub_grade</th>\n",
              "      <th>...</th>\n",
              "      <th>total_rec_prncp</th>\n",
              "      <th>total_rec_int</th>\n",
              "      <th>total_rec_late_fee</th>\n",
              "      <th>recoveries</th>\n",
              "      <th>collection_recovery_fee</th>\n",
              "      <th>last_pymnt_d</th>\n",
              "      <th>last_pymnt_amnt</th>\n",
              "      <th>next_pymnt_d</th>\n",
              "      <th>last_credit_pull_d</th>\n",
              "      <th>chargeoff_within_12_mths</th>\n",
              "    </tr>\n",
              "  </thead>\n",
              "  <tbody>\n",
              "    <tr>\n",
              "      <th>0</th>\n",
              "      <td>1077501</td>\n",
              "      <td>1296599</td>\n",
              "      <td>5000</td>\n",
              "      <td>5000</td>\n",
              "      <td>4975.0</td>\n",
              "      <td>36 months</td>\n",
              "      <td>10.65%</td>\n",
              "      <td>162.87</td>\n",
              "      <td>B</td>\n",
              "      <td>B2</td>\n",
              "      <td>...</td>\n",
              "      <td>5000.00</td>\n",
              "      <td>863.16</td>\n",
              "      <td>0.00</td>\n",
              "      <td>0.00</td>\n",
              "      <td>0.00</td>\n",
              "      <td>Jan-15</td>\n",
              "      <td>171.62</td>\n",
              "      <td>NaN</td>\n",
              "      <td>May-16</td>\n",
              "      <td>0.0</td>\n",
              "    </tr>\n",
              "    <tr>\n",
              "      <th>1</th>\n",
              "      <td>1077430</td>\n",
              "      <td>1314167</td>\n",
              "      <td>2500</td>\n",
              "      <td>2500</td>\n",
              "      <td>2500.0</td>\n",
              "      <td>60 months</td>\n",
              "      <td>15.27%</td>\n",
              "      <td>59.83</td>\n",
              "      <td>C</td>\n",
              "      <td>C4</td>\n",
              "      <td>...</td>\n",
              "      <td>456.46</td>\n",
              "      <td>435.17</td>\n",
              "      <td>0.00</td>\n",
              "      <td>117.08</td>\n",
              "      <td>1.11</td>\n",
              "      <td>Apr-13</td>\n",
              "      <td>119.66</td>\n",
              "      <td>NaN</td>\n",
              "      <td>Sep-13</td>\n",
              "      <td>0.0</td>\n",
              "    </tr>\n",
              "    <tr>\n",
              "      <th>2</th>\n",
              "      <td>1077175</td>\n",
              "      <td>1313524</td>\n",
              "      <td>2400</td>\n",
              "      <td>2400</td>\n",
              "      <td>2400.0</td>\n",
              "      <td>36 months</td>\n",
              "      <td>15.96%</td>\n",
              "      <td>84.33</td>\n",
              "      <td>C</td>\n",
              "      <td>C5</td>\n",
              "      <td>...</td>\n",
              "      <td>2400.00</td>\n",
              "      <td>605.67</td>\n",
              "      <td>0.00</td>\n",
              "      <td>0.00</td>\n",
              "      <td>0.00</td>\n",
              "      <td>Jun-14</td>\n",
              "      <td>649.91</td>\n",
              "      <td>NaN</td>\n",
              "      <td>May-16</td>\n",
              "      <td>0.0</td>\n",
              "    </tr>\n",
              "    <tr>\n",
              "      <th>3</th>\n",
              "      <td>1076863</td>\n",
              "      <td>1277178</td>\n",
              "      <td>10000</td>\n",
              "      <td>10000</td>\n",
              "      <td>10000.0</td>\n",
              "      <td>36 months</td>\n",
              "      <td>13.49%</td>\n",
              "      <td>339.31</td>\n",
              "      <td>C</td>\n",
              "      <td>C1</td>\n",
              "      <td>...</td>\n",
              "      <td>10000.00</td>\n",
              "      <td>2214.92</td>\n",
              "      <td>16.97</td>\n",
              "      <td>0.00</td>\n",
              "      <td>0.00</td>\n",
              "      <td>Jan-15</td>\n",
              "      <td>357.48</td>\n",
              "      <td>NaN</td>\n",
              "      <td>Apr-16</td>\n",
              "      <td>0.0</td>\n",
              "    </tr>\n",
              "    <tr>\n",
              "      <th>4</th>\n",
              "      <td>1075358</td>\n",
              "      <td>1311748</td>\n",
              "      <td>3000</td>\n",
              "      <td>3000</td>\n",
              "      <td>3000.0</td>\n",
              "      <td>60 months</td>\n",
              "      <td>12.69%</td>\n",
              "      <td>67.79</td>\n",
              "      <td>B</td>\n",
              "      <td>B5</td>\n",
              "      <td>...</td>\n",
              "      <td>2475.94</td>\n",
              "      <td>1037.39</td>\n",
              "      <td>0.00</td>\n",
              "      <td>0.00</td>\n",
              "      <td>0.00</td>\n",
              "      <td>May-16</td>\n",
              "      <td>67.79</td>\n",
              "      <td>Jun-16</td>\n",
              "      <td>May-16</td>\n",
              "      <td>0.0</td>\n",
              "    </tr>\n",
              "  </tbody>\n",
              "</table>\n",
              "<p>5 rows × 48 columns</p>\n",
              "</div>\n",
              "      <button class=\"colab-df-convert\" onclick=\"convertToInteractive('df-2e2ab562-3433-488f-a05a-90f560a13d37')\"\n",
              "              title=\"Convert this dataframe to an interactive table.\"\n",
              "              style=\"display:none;\">\n",
              "        \n",
              "  <svg xmlns=\"http://www.w3.org/2000/svg\" height=\"24px\"viewBox=\"0 0 24 24\"\n",
              "       width=\"24px\">\n",
              "    <path d=\"M0 0h24v24H0V0z\" fill=\"none\"/>\n",
              "    <path d=\"M18.56 5.44l.94 2.06.94-2.06 2.06-.94-2.06-.94-.94-2.06-.94 2.06-2.06.94zm-11 1L8.5 8.5l.94-2.06 2.06-.94-2.06-.94L8.5 2.5l-.94 2.06-2.06.94zm10 10l.94 2.06.94-2.06 2.06-.94-2.06-.94-.94-2.06-.94 2.06-2.06.94z\"/><path d=\"M17.41 7.96l-1.37-1.37c-.4-.4-.92-.59-1.43-.59-.52 0-1.04.2-1.43.59L10.3 9.45l-7.72 7.72c-.78.78-.78 2.05 0 2.83L4 21.41c.39.39.9.59 1.41.59.51 0 1.02-.2 1.41-.59l7.78-7.78 2.81-2.81c.8-.78.8-2.07 0-2.86zM5.41 20L4 18.59l7.72-7.72 1.47 1.35L5.41 20z\"/>\n",
              "  </svg>\n",
              "      </button>\n",
              "      \n",
              "  <style>\n",
              "    .colab-df-container {\n",
              "      display:flex;\n",
              "      flex-wrap:wrap;\n",
              "      gap: 12px;\n",
              "    }\n",
              "\n",
              "    .colab-df-convert {\n",
              "      background-color: #E8F0FE;\n",
              "      border: none;\n",
              "      border-radius: 50%;\n",
              "      cursor: pointer;\n",
              "      display: none;\n",
              "      fill: #1967D2;\n",
              "      height: 32px;\n",
              "      padding: 0 0 0 0;\n",
              "      width: 32px;\n",
              "    }\n",
              "\n",
              "    .colab-df-convert:hover {\n",
              "      background-color: #E2EBFA;\n",
              "      box-shadow: 0px 1px 2px rgba(60, 64, 67, 0.3), 0px 1px 3px 1px rgba(60, 64, 67, 0.15);\n",
              "      fill: #174EA6;\n",
              "    }\n",
              "\n",
              "    [theme=dark] .colab-df-convert {\n",
              "      background-color: #3B4455;\n",
              "      fill: #D2E3FC;\n",
              "    }\n",
              "\n",
              "    [theme=dark] .colab-df-convert:hover {\n",
              "      background-color: #434B5C;\n",
              "      box-shadow: 0px 1px 3px 1px rgba(0, 0, 0, 0.15);\n",
              "      filter: drop-shadow(0px 1px 2px rgba(0, 0, 0, 0.3));\n",
              "      fill: #FFFFFF;\n",
              "    }\n",
              "  </style>\n",
              "\n",
              "      <script>\n",
              "        const buttonEl =\n",
              "          document.querySelector('#df-2e2ab562-3433-488f-a05a-90f560a13d37 button.colab-df-convert');\n",
              "        buttonEl.style.display =\n",
              "          google.colab.kernel.accessAllowed ? 'block' : 'none';\n",
              "\n",
              "        async function convertToInteractive(key) {\n",
              "          const element = document.querySelector('#df-2e2ab562-3433-488f-a05a-90f560a13d37');\n",
              "          const dataTable =\n",
              "            await google.colab.kernel.invokeFunction('convertToInteractive',\n",
              "                                                     [key], {});\n",
              "          if (!dataTable) return;\n",
              "\n",
              "          const docLinkHtml = 'Like what you see? Visit the ' +\n",
              "            '<a target=\"_blank\" href=https://colab.research.google.com/notebooks/data_table.ipynb>data table notebook</a>'\n",
              "            + ' to learn more about interactive tables.';\n",
              "          element.innerHTML = '';\n",
              "          dataTable['output_type'] = 'display_data';\n",
              "          await google.colab.output.renderOutput(dataTable, element);\n",
              "          const docLink = document.createElement('div');\n",
              "          docLink.innerHTML = docLinkHtml;\n",
              "          element.appendChild(docLink);\n",
              "        }\n",
              "      </script>\n",
              "    </div>\n",
              "  </div>\n",
              "  "
            ]
          },
          "metadata": {},
          "execution_count": 9
        }
      ]
    },
    {
      "cell_type": "markdown",
      "source": [
        "# Data Cleaning and Manipulation"
      ],
      "metadata": {
        "id": "hHKsdWwKycb2"
      }
    },
    {
      "cell_type": "markdown",
      "source": [
        "* We are analyzing the user details and the driving factors of loan defaulting before approving loan.\n",
        "* Removing column which is not contributing in our analysis like\n",
        "\"funded_amnt\"\n",
        "* Ther are some fields like \"out_prncp_inv\" , \"total_pymnt_inv \" useful for other but not contributing to the loan defaulting analysis.\n",
        "* description (\"desc\") which we cannot do anythhing about for now.\n",
        "* There are some columns such as \"id\", \"member_id\", \"url\", \"title\", \"emp_title\", \"zip_code\", \"last_credit_pull_d\", \"addr_state\". doesnt contribute to the loan defaulting in any way due to irrelevant information,remove them\n",
        "\n",
        "\n"
      ],
      "metadata": {
        "id": "n8ktKHI6yjBA"
      }
    },
    {
      "cell_type": "markdown",
      "source": [
        "#### Post-approval features\n",
        "    delinq_2yrs\n",
        "    revol_bal\n",
        "    out_prncp\n",
        "    total_pymnt\n",
        "    last_pymnt_d\n",
        "    last_pymnt_amnt\n",
        "    next_pymnt_d\n",
        "    chargeoff_within_12_mths\n",
        "    total_rec_prncp\n",
        "    total_rec_int\n",
        "    total_rec_late_fee\n",
        "    recoveries\n",
        "    collection_recovery_fee\n",
        "\n"
      ],
      "metadata": {
        "id": "5GNe5pBf0gep"
      }
    },
    {
      "cell_type": "code",
      "source": [
        "loan_df.drop([\"id\", \"member_id\", \"url\", \"title\", \"emp_title\", \"zip_code\", \"last_credit_pull_d\", \"addr_state\",\"desc\",\"out_prncp_inv\",\"total_pymnt_inv\",\"funded_amnt\", \"delinq_2yrs\", \"revol_bal\", \"out_prncp\", \"total_pymnt\", \"total_rec_prncp\", \"total_rec_int\", \"total_rec_late_fee\", \"recoveries\", \"collection_recovery_fee\", \"last_pymnt_d\", \"last_pymnt_amnt\", \"next_pymnt_d\" , \"chargeoff_within_12_mths\", \"mths_since_last_delinq\", \"mths_since_last_record\"], axis = 1, inplace = True)"
      ],
      "metadata": {
        "id": "OUfQFr96yiQb"
      },
      "execution_count": 10,
      "outputs": []
    },
    {
      "cell_type": "code",
      "source": [
        "loan_df.shape"
      ],
      "metadata": {
        "colab": {
          "base_uri": "https://localhost:8080/"
        },
        "id": "X8VYSw7z1Df7",
        "outputId": "4784fca2-e142-4994-c14e-da65a185a15f"
      },
      "execution_count": 11,
      "outputs": [
        {
          "output_type": "execute_result",
          "data": {
            "text/plain": [
              "(39717, 21)"
            ]
          },
          "metadata": {},
          "execution_count": 11
        }
      ]
    },
    {
      "cell_type": "code",
      "source": [
        "loan_df.columns"
      ],
      "metadata": {
        "colab": {
          "base_uri": "https://localhost:8080/"
        },
        "id": "QbkY6LSd1JvG",
        "outputId": "2739f792-3aaf-4045-ffa5-7a8834ad1ea6"
      },
      "execution_count": 12,
      "outputs": [
        {
          "output_type": "execute_result",
          "data": {
            "text/plain": [
              "Index(['loan_amnt', 'funded_amnt_inv', 'term', 'int_rate', 'installment',\n",
              "       'grade', 'sub_grade', 'emp_length', 'home_ownership', 'annual_inc',\n",
              "       'verification_status', 'issue_d', 'loan_status', 'purpose', 'dti',\n",
              "       'earliest_cr_line', 'inq_last_6mths', 'open_acc', 'pub_rec',\n",
              "       'revol_util', 'total_acc'],\n",
              "      dtype='object')"
            ]
          },
          "metadata": {},
          "execution_count": 12
        }
      ]
    },
    {
      "cell_type": "markdown",
      "source": [
        "# Data analysis\n",
        "![Loan_image.png](data:image/png;base64,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)"
      ],
      "metadata": {
        "id": "C-zmVIZU1Un_"
      }
    },
    {
      "cell_type": "markdown",
      "source": [
        "The goal of the analysis is to see who is likely to default and this can only be said in case of either fully paid or charged off loans.\n",
        "\n",
        "\n",
        "> \n",
        "    * We cannot make anything up for the current loans.\n",
        "    * To exclude that data , removing the records with current loan status\n",
        "\n",
        "\n"
      ],
      "metadata": {
        "id": "zL13SPbd12dV"
      }
    },
    {
      "cell_type": "code",
      "source": [
        "loan_df = loan_df[loan_df.loan_status != \"Current\"]\n",
        "loan_df.loan_status.unique()"
      ],
      "metadata": {
        "colab": {
          "base_uri": "https://localhost:8080/"
        },
        "id": "YffnQNc02UWq",
        "outputId": "a3e12936-31f8-49c7-f647-dd10a1bbd43c"
      },
      "execution_count": 15,
      "outputs": [
        {
          "output_type": "execute_result",
          "data": {
            "text/plain": [
              "array(['Fully Paid', 'Charged Off'], dtype=object)"
            ]
          },
          "metadata": {},
          "execution_count": 15
        }
      ]
    },
    {
      "cell_type": "markdown",
      "source": [
        "Seeing for missing values if any."
      ],
      "metadata": {
        "id": "fpsWCF6k2t2G"
      }
    },
    {
      "cell_type": "code",
      "source": [
        "(loan_df.isna().sum()/len(loan_df.index))*100"
      ],
      "metadata": {
        "colab": {
          "base_uri": "https://localhost:8080/"
        },
        "id": "eejBoSeE20cX",
        "outputId": "aecff37e-4bf6-4cc5-dadc-34e223056a43"
      },
      "execution_count": 16,
      "outputs": [
        {
          "output_type": "execute_result",
          "data": {
            "text/plain": [
              "loan_amnt              0.000000\n",
              "funded_amnt_inv        0.000000\n",
              "term                   0.000000\n",
              "int_rate               0.000000\n",
              "installment            0.000000\n",
              "grade                  0.000000\n",
              "sub_grade              0.000000\n",
              "emp_length             2.677761\n",
              "home_ownership         0.000000\n",
              "annual_inc             0.000000\n",
              "verification_status    0.000000\n",
              "issue_d                0.000000\n",
              "loan_status            0.000000\n",
              "purpose                0.000000\n",
              "dti                    0.000000\n",
              "earliest_cr_line       0.000000\n",
              "inq_last_6mths         0.000000\n",
              "open_acc               0.000000\n",
              "pub_rec                0.000000\n",
              "revol_util             0.129611\n",
              "total_acc              0.000000\n",
              "dtype: float64"
            ]
          },
          "metadata": {},
          "execution_count": 16
        }
      ]
    },
    {
      "cell_type": "markdown",
      "source": [
        "columns with missing values are \"emp_length\", \"revol_util\"."
      ],
      "metadata": {
        "id": "5GRVOoAP3hqK"
      }
    },
    {
      "cell_type": "code",
      "source": [
        "loan_df.info() ## see what kind of data each column has"
      ],
      "metadata": {
        "colab": {
          "base_uri": "https://localhost:8080/"
        },
        "id": "pgnstdu53E7x",
        "outputId": "da9827dd-90a9-42ac-cb19-60a3cabca10e"
      },
      "execution_count": 18,
      "outputs": [
        {
          "output_type": "stream",
          "name": "stdout",
          "text": [
            "<class 'pandas.core.frame.DataFrame'>\n",
            "Int64Index: 38577 entries, 0 to 39716\n",
            "Data columns (total 21 columns):\n",
            " #   Column               Non-Null Count  Dtype  \n",
            "---  ------               --------------  -----  \n",
            " 0   loan_amnt            38577 non-null  int64  \n",
            " 1   funded_amnt_inv      38577 non-null  float64\n",
            " 2   term                 38577 non-null  object \n",
            " 3   int_rate             38577 non-null  object \n",
            " 4   installment          38577 non-null  float64\n",
            " 5   grade                38577 non-null  object \n",
            " 6   sub_grade            38577 non-null  object \n",
            " 7   emp_length           37544 non-null  object \n",
            " 8   home_ownership       38577 non-null  object \n",
            " 9   annual_inc           38577 non-null  float64\n",
            " 10  verification_status  38577 non-null  object \n",
            " 11  issue_d              38577 non-null  object \n",
            " 12  loan_status          38577 non-null  object \n",
            " 13  purpose              38577 non-null  object \n",
            " 14  dti                  38577 non-null  float64\n",
            " 15  earliest_cr_line     38577 non-null  object \n",
            " 16  inq_last_6mths       38577 non-null  int64  \n",
            " 17  open_acc             38577 non-null  int64  \n",
            " 18  pub_rec              38577 non-null  int64  \n",
            " 19  revol_util           38527 non-null  object \n",
            " 20  total_acc            38577 non-null  int64  \n",
            "dtypes: float64(4), int64(5), object(12)\n",
            "memory usage: 6.5+ MB\n"
          ]
        }
      ]
    },
    {
      "cell_type": "code",
      "source": [
        "print(\"Mode : \" + loan_df.emp_length.mode()[0])\n",
        "loan_df.emp_length.value_counts()"
      ],
      "metadata": {
        "colab": {
          "base_uri": "https://localhost:8080/"
        },
        "id": "kldaoi6-3GP7",
        "outputId": "ee76e1b8-7f4b-40d0-89d7-ae1fc76ee38d"
      },
      "execution_count": 19,
      "outputs": [
        {
          "output_type": "stream",
          "name": "stdout",
          "text": [
            "Mode : 10+ years\n"
          ]
        },
        {
          "output_type": "execute_result",
          "data": {
            "text/plain": [
              "10+ years    8488\n",
              "< 1 year     4508\n",
              "2 years      4291\n",
              "3 years      4012\n",
              "4 years      3342\n",
              "5 years      3194\n",
              "1 year       3169\n",
              "6 years      2168\n",
              "7 years      1711\n",
              "8 years      1435\n",
              "9 years      1226\n",
              "Name: emp_length, dtype: int64"
            ]
          },
          "metadata": {},
          "execution_count": 19
        }
      ]
    },
    {
      "cell_type": "markdown",
      "source": [
        "\n",
        "The above value counts shows that the mode value has far higher frequency than that of the next most frequent value.\n",
        "\n",
        "    This means that we can safely assign the value of mode to the null values in the column.\n",
        "    Also the missing values are in very low percentage. So imputung with mode value doesnt affect the analysis much.\n",
        "\n"
      ],
      "metadata": {
        "id": "Ep_2N8Zr3yJ0"
      }
    },
    {
      "cell_type": "code",
      "source": [
        "loan_df.emp_length.fillna(loan_df.emp_length.mode()[0], inplace = True)\n",
        "loan_df.emp_length.isna().sum()"
      ],
      "metadata": {
        "colab": {
          "base_uri": "https://localhost:8080/"
        },
        "id": "RoQ5vosS31we",
        "outputId": "cacddb58-92a3-4eda-86f8-52c8ffa2f0ce"
      },
      "execution_count": 20,
      "outputs": [
        {
          "output_type": "execute_result",
          "data": {
            "text/plain": [
              "0"
            ]
          },
          "metadata": {},
          "execution_count": 20
        }
      ]
    },
    {
      "cell_type": "code",
      "source": [
        "loan_df.dropna(axis = 0, subset = ['revol_util'] , inplace = True)\n",
        "loan_df.revol_util.isna().sum()"
      ],
      "metadata": {
        "colab": {
          "base_uri": "https://localhost:8080/"
        },
        "id": "MzI84dha4BbD",
        "outputId": "8c7d5613-e99f-4246-880a-8076ba79cee2"
      },
      "execution_count": 22,
      "outputs": [
        {
          "output_type": "execute_result",
          "data": {
            "text/plain": [
              "0"
            ]
          },
          "metadata": {},
          "execution_count": 22
        }
      ]
    },
    {
      "cell_type": "markdown",
      "source": [
        "\n",
        "Standardizing the data\n",
        "\n",
        "    \"revol_util\" column although described as an object column, it has continous values.\n",
        "    So we need to standardize the data in this column\n",
        "    \"emp_length\" --> { (< 1 year) is assumed as 0 and 10+ years is assumed as 10 }\n",
        "    \"int_rate\" is one such column.\n",
        "    Although the datatype of \"term\" is arguable to be an integer, there are only two values in the whole column and it might as well be declared a categorical variable\n"
      ],
      "metadata": {
        "id": "OlgKNQhy4ZdD"
      }
    },
    {
      "cell_type": "code",
      "source": [
        "loan_df.head()"
      ],
      "metadata": {
        "colab": {
          "base_uri": "https://localhost:8080/",
          "height": 386
        },
        "id": "o8fVHOXA9miK",
        "outputId": "5ad3cff0-9338-4169-c783-32bb192391d6"
      },
      "execution_count": 34,
      "outputs": [
        {
          "output_type": "execute_result",
          "data": {
            "text/plain": [
              "   loan_amnt  funded_amnt_inv        term  int_rate  installment grade  \\\n",
              "0       5000           4975.0   36 months     10.65       162.87     B   \n",
              "1       2500           2500.0   60 months     15.27        59.83     C   \n",
              "2       2400           2400.0   36 months     15.96        84.33     C   \n",
              "3      10000          10000.0   36 months     13.49       339.31     C   \n",
              "5       5000           5000.0   36 months      7.90       156.46     A   \n",
              "\n",
              "  sub_grade  emp_length home_ownership  annual_inc  ... issue_d  loan_status  \\\n",
              "0        B2          10           RENT     24000.0  ...  Dec-11   Fully Paid   \n",
              "1        C4           0           RENT     30000.0  ...  Dec-11  Charged Off   \n",
              "2        C5          10           RENT     12252.0  ...  Dec-11   Fully Paid   \n",
              "3        C1          10           RENT     49200.0  ...  Dec-11   Fully Paid   \n",
              "5        A4           3           RENT     36000.0  ...  Dec-11   Fully Paid   \n",
              "\n",
              "          purpose    dti  earliest_cr_line inq_last_6mths  open_acc  pub_rec  \\\n",
              "0     credit_card  27.65            Jan-85              1         3        0   \n",
              "1             car   1.00            Apr-99              5         3        0   \n",
              "2  small_business   8.72            Nov-01              2         2        0   \n",
              "3           other  20.00            Feb-96              1        10        0   \n",
              "5         wedding  11.20            Nov-04              3         9        0   \n",
              "\n",
              "   revol_util  total_acc  \n",
              "0        83.7          9  \n",
              "1         9.4          4  \n",
              "2        98.5         10  \n",
              "3        21.0         37  \n",
              "5        28.3         12  \n",
              "\n",
              "[5 rows x 21 columns]"
            ],
            "text/html": [
              "\n",
              "  <div id=\"df-f149f1f6-b935-435e-9b85-68dad5b992fa\">\n",
              "    <div class=\"colab-df-container\">\n",
              "      <div>\n",
              "<style scoped>\n",
              "    .dataframe tbody tr th:only-of-type {\n",
              "        vertical-align: middle;\n",
              "    }\n",
              "\n",
              "    .dataframe tbody tr th {\n",
              "        vertical-align: top;\n",
              "    }\n",
              "\n",
              "    .dataframe thead th {\n",
              "        text-align: right;\n",
              "    }\n",
              "</style>\n",
              "<table border=\"1\" class=\"dataframe\">\n",
              "  <thead>\n",
              "    <tr style=\"text-align: right;\">\n",
              "      <th></th>\n",
              "      <th>loan_amnt</th>\n",
              "      <th>funded_amnt_inv</th>\n",
              "      <th>term</th>\n",
              "      <th>int_rate</th>\n",
              "      <th>installment</th>\n",
              "      <th>grade</th>\n",
              "      <th>sub_grade</th>\n",
              "      <th>emp_length</th>\n",
              "      <th>home_ownership</th>\n",
              "      <th>annual_inc</th>\n",
              "      <th>...</th>\n",
              "      <th>issue_d</th>\n",
              "      <th>loan_status</th>\n",
              "      <th>purpose</th>\n",
              "      <th>dti</th>\n",
              "      <th>earliest_cr_line</th>\n",
              "      <th>inq_last_6mths</th>\n",
              "      <th>open_acc</th>\n",
              "      <th>pub_rec</th>\n",
              "      <th>revol_util</th>\n",
              "      <th>total_acc</th>\n",
              "    </tr>\n",
              "  </thead>\n",
              "  <tbody>\n",
              "    <tr>\n",
              "      <th>0</th>\n",
              "      <td>5000</td>\n",
              "      <td>4975.0</td>\n",
              "      <td>36 months</td>\n",
              "      <td>10.65</td>\n",
              "      <td>162.87</td>\n",
              "      <td>B</td>\n",
              "      <td>B2</td>\n",
              "      <td>10</td>\n",
              "      <td>RENT</td>\n",
              "      <td>24000.0</td>\n",
              "      <td>...</td>\n",
              "      <td>Dec-11</td>\n",
              "      <td>Fully Paid</td>\n",
              "      <td>credit_card</td>\n",
              "      <td>27.65</td>\n",
              "      <td>Jan-85</td>\n",
              "      <td>1</td>\n",
              "      <td>3</td>\n",
              "      <td>0</td>\n",
              "      <td>83.7</td>\n",
              "      <td>9</td>\n",
              "    </tr>\n",
              "    <tr>\n",
              "      <th>1</th>\n",
              "      <td>2500</td>\n",
              "      <td>2500.0</td>\n",
              "      <td>60 months</td>\n",
              "      <td>15.27</td>\n",
              "      <td>59.83</td>\n",
              "      <td>C</td>\n",
              "      <td>C4</td>\n",
              "      <td>0</td>\n",
              "      <td>RENT</td>\n",
              "      <td>30000.0</td>\n",
              "      <td>...</td>\n",
              "      <td>Dec-11</td>\n",
              "      <td>Charged Off</td>\n",
              "      <td>car</td>\n",
              "      <td>1.00</td>\n",
              "      <td>Apr-99</td>\n",
              "      <td>5</td>\n",
              "      <td>3</td>\n",
              "      <td>0</td>\n",
              "      <td>9.4</td>\n",
              "      <td>4</td>\n",
              "    </tr>\n",
              "    <tr>\n",
              "      <th>2</th>\n",
              "      <td>2400</td>\n",
              "      <td>2400.0</td>\n",
              "      <td>36 months</td>\n",
              "      <td>15.96</td>\n",
              "      <td>84.33</td>\n",
              "      <td>C</td>\n",
              "      <td>C5</td>\n",
              "      <td>10</td>\n",
              "      <td>RENT</td>\n",
              "      <td>12252.0</td>\n",
              "      <td>...</td>\n",
              "      <td>Dec-11</td>\n",
              "      <td>Fully Paid</td>\n",
              "      <td>small_business</td>\n",
              "      <td>8.72</td>\n",
              "      <td>Nov-01</td>\n",
              "      <td>2</td>\n",
              "      <td>2</td>\n",
              "      <td>0</td>\n",
              "      <td>98.5</td>\n",
              "      <td>10</td>\n",
              "    </tr>\n",
              "    <tr>\n",
              "      <th>3</th>\n",
              "      <td>10000</td>\n",
              "      <td>10000.0</td>\n",
              "      <td>36 months</td>\n",
              "      <td>13.49</td>\n",
              "      <td>339.31</td>\n",
              "      <td>C</td>\n",
              "      <td>C1</td>\n",
              "      <td>10</td>\n",
              "      <td>RENT</td>\n",
              "      <td>49200.0</td>\n",
              "      <td>...</td>\n",
              "      <td>Dec-11</td>\n",
              "      <td>Fully Paid</td>\n",
              "      <td>other</td>\n",
              "      <td>20.00</td>\n",
              "      <td>Feb-96</td>\n",
              "      <td>1</td>\n",
              "      <td>10</td>\n",
              "      <td>0</td>\n",
              "      <td>21.0</td>\n",
              "      <td>37</td>\n",
              "    </tr>\n",
              "    <tr>\n",
              "      <th>5</th>\n",
              "      <td>5000</td>\n",
              "      <td>5000.0</td>\n",
              "      <td>36 months</td>\n",
              "      <td>7.90</td>\n",
              "      <td>156.46</td>\n",
              "      <td>A</td>\n",
              "      <td>A4</td>\n",
              "      <td>3</td>\n",
              "      <td>RENT</td>\n",
              "      <td>36000.0</td>\n",
              "      <td>...</td>\n",
              "      <td>Dec-11</td>\n",
              "      <td>Fully Paid</td>\n",
              "      <td>wedding</td>\n",
              "      <td>11.20</td>\n",
              "      <td>Nov-04</td>\n",
              "      <td>3</td>\n",
              "      <td>9</td>\n",
              "      <td>0</td>\n",
              "      <td>28.3</td>\n",
              "      <td>12</td>\n",
              "    </tr>\n",
              "  </tbody>\n",
              "</table>\n",
              "<p>5 rows × 21 columns</p>\n",
              "</div>\n",
              "      <button class=\"colab-df-convert\" onclick=\"convertToInteractive('df-f149f1f6-b935-435e-9b85-68dad5b992fa')\"\n",
              "              title=\"Convert this dataframe to an interactive table.\"\n",
              "              style=\"display:none;\">\n",
              "        \n",
              "  <svg xmlns=\"http://www.w3.org/2000/svg\" height=\"24px\"viewBox=\"0 0 24 24\"\n",
              "       width=\"24px\">\n",
              "    <path d=\"M0 0h24v24H0V0z\" fill=\"none\"/>\n",
              "    <path d=\"M18.56 5.44l.94 2.06.94-2.06 2.06-.94-2.06-.94-.94-2.06-.94 2.06-2.06.94zm-11 1L8.5 8.5l.94-2.06 2.06-.94-2.06-.94L8.5 2.5l-.94 2.06-2.06.94zm10 10l.94 2.06.94-2.06 2.06-.94-2.06-.94-.94-2.06-.94 2.06-2.06.94z\"/><path d=\"M17.41 7.96l-1.37-1.37c-.4-.4-.92-.59-1.43-.59-.52 0-1.04.2-1.43.59L10.3 9.45l-7.72 7.72c-.78.78-.78 2.05 0 2.83L4 21.41c.39.39.9.59 1.41.59.51 0 1.02-.2 1.41-.59l7.78-7.78 2.81-2.81c.8-.78.8-2.07 0-2.86zM5.41 20L4 18.59l7.72-7.72 1.47 1.35L5.41 20z\"/>\n",
              "  </svg>\n",
              "      </button>\n",
              "      \n",
              "  <style>\n",
              "    .colab-df-container {\n",
              "      display:flex;\n",
              "      flex-wrap:wrap;\n",
              "      gap: 12px;\n",
              "    }\n",
              "\n",
              "    .colab-df-convert {\n",
              "      background-color: #E8F0FE;\n",
              "      border: none;\n",
              "      border-radius: 50%;\n",
              "      cursor: pointer;\n",
              "      display: none;\n",
              "      fill: #1967D2;\n",
              "      height: 32px;\n",
              "      padding: 0 0 0 0;\n",
              "      width: 32px;\n",
              "    }\n",
              "\n",
              "    .colab-df-convert:hover {\n",
              "      background-color: #E2EBFA;\n",
              "      box-shadow: 0px 1px 2px rgba(60, 64, 67, 0.3), 0px 1px 3px 1px rgba(60, 64, 67, 0.15);\n",
              "      fill: #174EA6;\n",
              "    }\n",
              "\n",
              "    [theme=dark] .colab-df-convert {\n",
              "      background-color: #3B4455;\n",
              "      fill: #D2E3FC;\n",
              "    }\n",
              "\n",
              "    [theme=dark] .colab-df-convert:hover {\n",
              "      background-color: #434B5C;\n",
              "      box-shadow: 0px 1px 3px 1px rgba(0, 0, 0, 0.15);\n",
              "      filter: drop-shadow(0px 1px 2px rgba(0, 0, 0, 0.3));\n",
              "      fill: #FFFFFF;\n",
              "    }\n",
              "  </style>\n",
              "\n",
              "      <script>\n",
              "        const buttonEl =\n",
              "          document.querySelector('#df-f149f1f6-b935-435e-9b85-68dad5b992fa button.colab-df-convert');\n",
              "        buttonEl.style.display =\n",
              "          google.colab.kernel.accessAllowed ? 'block' : 'none';\n",
              "\n",
              "        async function convertToInteractive(key) {\n",
              "          const element = document.querySelector('#df-f149f1f6-b935-435e-9b85-68dad5b992fa');\n",
              "          const dataTable =\n",
              "            await google.colab.kernel.invokeFunction('convertToInteractive',\n",
              "                                                     [key], {});\n",
              "          if (!dataTable) return;\n",
              "\n",
              "          const docLinkHtml = 'Like what you see? Visit the ' +\n",
              "            '<a target=\"_blank\" href=https://colab.research.google.com/notebooks/data_table.ipynb>data table notebook</a>'\n",
              "            + ' to learn more about interactive tables.';\n",
              "          element.innerHTML = '';\n",
              "          dataTable['output_type'] = 'display_data';\n",
              "          await google.colab.output.renderOutput(dataTable, element);\n",
              "          const docLink = document.createElement('div');\n",
              "          docLink.innerHTML = docLinkHtml;\n",
              "          element.appendChild(docLink);\n",
              "        }\n",
              "      </script>\n",
              "    </div>\n",
              "  </div>\n",
              "  "
            ]
          },
          "metadata": {},
          "execution_count": 34
        }
      ]
    },
    {
      "cell_type": "markdown",
      "source": [
        "\n",
        "####Outlier Treatment"
      ],
      "metadata": {
        "id": "5ludyu0O9-ax"
      }
    },
    {
      "cell_type": "code",
      "source": [
        "sns.boxplot(loan_df['annual_inc'])"
      ],
      "metadata": {
        "colab": {
          "base_uri": "https://localhost:8080/",
          "height": 297
        },
        "id": "J_l1WgpR9occ",
        "outputId": "29fd41fa-fc2d-4826-c1b3-267d4f39d05f"
      },
      "execution_count": 35,
      "outputs": [
        {
          "output_type": "execute_result",
          "data": {
            "text/plain": [
              "<matplotlib.axes._subplots.AxesSubplot at 0x7f316e61ac40>"
            ]
          },
          "metadata": {},
          "execution_count": 35
        },
        {
          "output_type": "display_data",
          "data": {
            "text/plain": [
              "<Figure size 432x288 with 1 Axes>"
            ],
            "image/png": "[encoded data removed]"
          },
          "metadata": {
            "needs_background": "light"
          }
        }
      ]
    },
    {
      "cell_type": "markdown",
      "source": [
        "\n",
        "Clearly indincating the presence of outliers.\n",
        "\n",
        "    So, Removing them.\n",
        "    Let's see the quantile info and take an appropriate action.\n",
        "    The values after 95 percentile seems to be disconected from the general distribution and also there is huge increase in the value for small quantile variation.\n",
        "    So, considering threshold for removing outliers as 0.95\n",
        "\n"
      ],
      "metadata": {
        "id": "0SU2UBHX-FpG"
      }
    },
    {
      "cell_type": "code",
      "source": [
        "quantile_info = loan_df.annual_inc.quantile([0.5, 0.75,0.90, 0.95, 0.97,0.98, 0.99])\n",
        "quantile_info    \n"
      ],
      "metadata": {
        "colab": {
          "base_uri": "https://localhost:8080/"
        },
        "id": "uGGTA1kX93eI",
        "outputId": "c19b238c-fc83-428a-dbf1-5e2594337909"
      },
      "execution_count": 38,
      "outputs": [
        {
          "output_type": "execute_result",
          "data": {
            "text/plain": [
              "0.50     59000.0\n",
              "0.75     82000.0\n",
              "0.90    115000.0\n",
              "0.95    140004.0\n",
              "0.97    165000.0\n",
              "0.98    187000.0\n",
              "0.99    234000.0\n",
              "Name: annual_inc, dtype: float64"
            ]
          },
          "metadata": {},
          "execution_count": 38
        }
      ]
    },
    {
      "cell_type": "code",
      "source": [
        "per_95_annual_inc = loan_df['annual_inc'].quantile(0.95)\n",
        "loan_data = loan_df[loan_df.annual_inc <= per_95_annual_inc]"
      ],
      "metadata": {
        "id": "ZVYIMHXC-gkR"
      },
      "execution_count": 40,
      "outputs": []
    },
    {
      "cell_type": "code",
      "source": [
        "sns.boxplot(loan_df.annual_inc)"
      ],
      "metadata": {
        "colab": {
          "base_uri": "https://localhost:8080/",
          "height": 297
        },
        "id": "BjrFLWGf-p2D",
        "outputId": "503eb9ff-c5a4-4908-c164-61e61585b90a"
      },
      "execution_count": 41,
      "outputs": [
        {
          "output_type": "execute_result",
          "data": {
            "text/plain": [
              "<matplotlib.axes._subplots.AxesSubplot at 0x7f316e613c40>"
            ]
          },
          "metadata": {},
          "execution_count": 41
        },
        {
          "output_type": "display_data",
          "data": {
            "text/plain": [
              "<Figure size 432x288 with 1 Axes>"
            ],
            "image/png": "[encoded data removed]"
          },
          "metadata": {
            "needs_background": "light"
          }
        }
      ]
    },
    {
      "cell_type": "markdown",
      "source": [
        "\n",
        "Now the \"annual_inc\" data looks good and proceeding next.\n",
        "\n",
        "    Let's analyze other numerical variables which could possibly have outliers.\n",
        "    dti\n",
        "    loan_amnt\n",
        "    funded_amnt_inv\n",
        "\n"
      ],
      "metadata": {
        "id": "McyjD5YM--CJ"
      }
    },
    {
      "cell_type": "code",
      "source": [
        "sns.boxplot(loan_df.dti)"
      ],
      "metadata": {
        "colab": {
          "base_uri": "https://localhost:8080/",
          "height": 296
        },
        "id": "JomDBvcw-_Yv",
        "outputId": "2769297d-5574-4f89-92bb-a67693ca9a31"
      },
      "execution_count": 42,
      "outputs": [
        {
          "output_type": "execute_result",
          "data": {
            "text/plain": [
              "<matplotlib.axes._subplots.AxesSubplot at 0x7f316d70bb20>"
            ]
          },
          "metadata": {},
          "execution_count": 42
        },
        {
          "output_type": "display_data",
          "data": {
            "text/plain": [
              "<Figure size 432x288 with 1 Axes>"
            ],
            "image/png": "[encoded data removed]"
          },
          "metadata": {
            "needs_background": "light"
          }
        }
      ]
    },
    {
      "cell_type": "code",
      "source": [
        "sns.boxplot(loan_df.loan_amnt)"
      ],
      "metadata": {
        "colab": {
          "base_uri": "https://localhost:8080/",
          "height": 297
        },
        "id": "i2ZL23R1_EE9",
        "outputId": "05a860f9-c93d-456b-a826-776a651c0ced"
      },
      "execution_count": 44,
      "outputs": [
        {
          "output_type": "execute_result",
          "data": {
            "text/plain": [
              "<matplotlib.axes._subplots.AxesSubplot at 0x7f316d66af70>"
            ]
          },
          "metadata": {},
          "execution_count": 44
        },
        {
          "output_type": "display_data",
          "data": {
            "text/plain": [
              "<Figure size 432x288 with 1 Axes>"
            ],
            "image/png": "[encoded data removed]"
          },
          "metadata": {
            "needs_background": "light"
          }
        }
      ]
    },
    {
      "cell_type": "code",
      "source": [
        "loan_df.loan_amnt.quantile([0.75,0.90,0.95,0.97,0.975, 0.98, 0.99, 1.0])"
      ],
      "metadata": {
        "colab": {
          "base_uri": "https://localhost:8080/"
        },
        "id": "dMBV9mAH_Kzb",
        "outputId": "382802af-f041-4272-8687-b461b3ffd41f"
      },
      "execution_count": 45,
      "outputs": [
        {
          "output_type": "execute_result",
          "data": {
            "text/plain": [
              "0.750    15000.0\n",
              "0.900    21600.0\n",
              "0.950    25000.0\n",
              "0.970    28000.0\n",
              "0.975    30000.0\n",
              "0.980    30000.0\n",
              "0.990    35000.0\n",
              "1.000    35000.0\n",
              "Name: loan_amnt, dtype: float64"
            ]
          },
          "metadata": {},
          "execution_count": 45
        }
      ]
    },
    {
      "cell_type": "code",
      "source": [
        "sns.boxplot(loan_df.funded_amnt_inv)"
      ],
      "metadata": {
        "colab": {
          "base_uri": "https://localhost:8080/",
          "height": 297
        },
        "id": "1KMBkxf2_RfW",
        "outputId": "ac29555e-c525-4697-d930-5a7652d46255"
      },
      "execution_count": 46,
      "outputs": [
        {
          "output_type": "execute_result",
          "data": {
            "text/plain": [
              "<matplotlib.axes._subplots.AxesSubplot at 0x7f316d613760>"
            ]
          },
          "metadata": {},
          "execution_count": 46
        },
        {
          "output_type": "display_data",
          "data": {
            "text/plain": [
              "<Figure size 432x288 with 1 Axes>"
            ],
            "image/png": "[encoded data removed]"
          },
          "metadata": {
            "needs_background": "light"
          }
        }
      ]
    },
    {
      "cell_type": "code",
      "source": [
        "loan_df.funded_amnt_inv.quantile([0.5,0.75,0.90,0.95,0.97,0.975, 0.98,0.985, 0.99, 1.0])"
      ],
      "metadata": {
        "colab": {
          "base_uri": "https://localhost:8080/"
        },
        "id": "KIcEPAal_WfT",
        "outputId": "a52eb798-0dca-436e-c9ee-a674873de27d"
      },
      "execution_count": 47,
      "outputs": [
        {
          "output_type": "execute_result",
          "data": {
            "text/plain": [
              "0.500     8750.000000\n",
              "0.750    14000.000000\n",
              "0.900    19975.000000\n",
              "0.950    24506.582238\n",
              "0.970    25828.061320\n",
              "0.975    27975.000000\n",
              "0.980    29890.414864\n",
              "0.985    30000.000000\n",
              "0.990    34721.583150\n",
              "1.000    35000.000000\n",
              "Name: funded_amnt_inv, dtype: float64"
            ]
          },
          "metadata": {},
          "execution_count": 47
        }
      ]
    },
    {
      "cell_type": "markdown",
      "source": [
        "Though there are some values far from distribution, the distribution is pretty continousand there is no need to remove outliers / extreme values for these above columns"
      ],
      "metadata": {
        "id": "sitldb_u_ws8"
      }
    },
    {
      "cell_type": "markdown",
      "source": [
        "#### Visualizing Categorical Data"
      ],
      "metadata": {
        "id": "Nx2mzN2l_2TA"
      }
    },
    {
      "cell_type": "code",
      "source": [
        "sns.countplot(x = 'loan_status', data = loan_df)"
      ],
      "metadata": {
        "colab": {
          "base_uri": "https://localhost:8080/",
          "height": 297
        },
        "id": "zK4Kc4k__cg3",
        "outputId": "013d4fc5-f713-4d17-da4b-0a310bacf57c"
      },
      "execution_count": 48,
      "outputs": [
        {
          "output_type": "execute_result",
          "data": {
            "text/plain": [
              "<matplotlib.axes._subplots.AxesSubplot at 0x7f316d6fbfd0>"
            ]
          },
          "metadata": {},
          "execution_count": 48
        },
        {
          "output_type": "display_data",
          "data": {
            "text/plain": [
              "<Figure size 432x288 with 1 Axes>"
            ],
            "image/png": "[encoded data removed]"
          },
          "metadata": {
            "needs_background": "light"
          }
        }
      ]
    },
    {
      "cell_type": "code",
      "source": [
        "loan_df.sub_grade.head()\n",
        "loan_df.sub_grade = pd.to_numeric(loan_data.sub_grade.apply(lambda x : x[-1]))"
      ],
      "metadata": {
        "id": "yJoHPz3UABXs"
      },
      "execution_count": 50,
      "outputs": []
    },
    {
      "cell_type": "code",
      "source": [
        "fig, ax = plt.subplots(figsize=(12,7))\n",
        "sns.set_palette('colorblind')\n",
        "sns.countplot(x = 'grade', order = ['A', 'B', 'C', 'D', 'E', 'F', 'G'] , hue = 'sub_grade',data = loan_df[loan_df.loan_status == 'Charged Off'])\n"
      ],
      "metadata": {
        "colab": {
          "base_uri": "https://localhost:8080/",
          "height": 459
        },
        "id": "6zrdXnlHAJyP",
        "outputId": "27a40c1d-152a-4504-d88d-2c8c571874a0"
      },
      "execution_count": 51,
      "outputs": [
        {
          "output_type": "execute_result",
          "data": {
            "text/plain": [
              "<matplotlib.axes._subplots.AxesSubplot at 0x7f316d578220>"
            ]
          },
          "metadata": {},
          "execution_count": 51
        },
        {
          "output_type": "display_data",
          "data": {
            "text/plain": [
              "<Figure size 864x504 with 1 Axes>"
            ],
            "image/png": "[encoded data removed]"
          },
          "metadata": {
            "needs_background": "light"
          }
        }
      ]
    },
    {
      "cell_type": "code",
      "source": [
        "sns.countplot(x = 'grade', data = loan_df[loan_df.loan_status == 'Charged Off'], order = ['A', 'B', 'C', 'D', 'E', 'F', 'G'])"
      ],
      "metadata": {
        "colab": {
          "base_uri": "https://localhost:8080/",
          "height": 296
        },
        "id": "Z4Efu4_vAVxp",
        "outputId": "fcaffb01-d42c-4292-db83-d57d95f71d27"
      },
      "execution_count": 52,
      "outputs": [
        {
          "output_type": "execute_result",
          "data": {
            "text/plain": [
              "<matplotlib.axes._subplots.AxesSubplot at 0x7f316d48c4f0>"
            ]
          },
          "metadata": {},
          "execution_count": 52
        },
        {
          "output_type": "display_data",
          "data": {
            "text/plain": [
              "<Figure size 432x288 with 1 Axes>"
            ],
            "image/png": "[encoded data removed]"
          },
          "metadata": {
            "needs_background": "light"
          }
        }
      ]
    },
    {
      "cell_type": "code",
      "source": [
        "#Home_ownership checking unique values\n",
        "loan_data['home_ownership'].unique()"
      ],
      "metadata": {
        "colab": {
          "base_uri": "https://localhost:8080/"
        },
        "id": "exLfmuQ3Affb",
        "outputId": "ba8cbad2-e5c8-4d36-c48a-1eff89eb0a34"
      },
      "execution_count": 53,
      "outputs": [
        {
          "output_type": "execute_result",
          "data": {
            "text/plain": [
              "array(['RENT', 'OWN', 'MORTGAGE', 'OTHER', 'NONE'], dtype=object)"
            ]
          },
          "metadata": {},
          "execution_count": 53
        }
      ]
    },
    {
      "cell_type": "code",
      "source": [
        "#replacing 'NONE' with 'OTHERS'\n",
        "loan_df['home_ownership'].replace(to_replace = ['NONE'],value='OTHER',inplace = True)\n",
        "loan_data['home_ownership'].unique()"
      ],
      "metadata": {
        "colab": {
          "base_uri": "https://localhost:8080/"
        },
        "id": "uQFWS_1KAqEE",
        "outputId": "9c338e95-aff9-41f0-bf32-033b371faa83"
      },
      "execution_count": 55,
      "outputs": [
        {
          "output_type": "execute_result",
          "data": {
            "text/plain": [
              "array(['RENT', 'OWN', 'MORTGAGE', 'OTHER', 'NONE'], dtype=object)"
            ]
          },
          "metadata": {},
          "execution_count": 55
        }
      ]
    },
    {
      "cell_type": "code",
      "source": [
        "fig, ax = plt.subplots(figsize = (6,4))\n",
        "ax.set(yscale = 'log')\n",
        "sns.countplot(x='home_ownership', data=loan_df[loan_df['loan_status']=='Charged Off'])"
      ],
      "metadata": {
        "colab": {
          "base_uri": "https://localhost:8080/",
          "height": 297
        },
        "id": "mJKlIWPaA6jA",
        "outputId": "63fe6c74-d826-4a5a-a182-c1233bc5568f"
      },
      "execution_count": 56,
      "outputs": [
        {
          "output_type": "execute_result",
          "data": {
            "text/plain": [
              "<matplotlib.axes._subplots.AxesSubplot at 0x7f316d414fd0>"
            ]
          },
          "metadata": {},
          "execution_count": 56
        },
        {
          "output_type": "display_data",
          "data": {
            "text/plain": [
              "<Figure size 432x288 with 1 Axes>"
            ],
            "image/png": "[encoded data removed]"
          },
          "metadata": {
            "needs_background": "light"
          }
        }
      ]
    },
    {
      "cell_type": "code",
      "source": [
        "fig, ax = plt.subplots(figsize = (12,8))\n",
        "ax.set(xscale = 'log')\n",
        "sns.countplot(y ='purpose', data=loan_df[loan_df.loan_status == 'Charged Off'])"
      ],
      "metadata": {
        "colab": {
          "base_uri": "https://localhost:8080/",
          "height": 518
        },
        "id": "mV0ukIrSBVg0",
        "outputId": "d2252ef4-4702-495a-e55c-ba057c61a29b"
      },
      "execution_count": 57,
      "outputs": [
        {
          "output_type": "execute_result",
          "data": {
            "text/plain": [
              "<matplotlib.axes._subplots.AxesSubplot at 0x7f316cda85e0>"
            ]
          },
          "metadata": {},
          "execution_count": 57
        },
        {
          "output_type": "display_data",
          "data": {
            "text/plain": [
              "<Figure size 864x576 with 1 Axes>"
            ],
            "image/png": "[encoded data removed]"
          },
          "metadata": {
            "needs_background": "light"
          }
        }
      ]
    },
    {
      "cell_type": "markdown",
      "source": [
        "\n",
        "Creating bins for some numerical variable to make them categorical"
      ],
      "metadata": {
        "id": "SU7TzJbEBgn-"
      }
    },
    {
      "cell_type": "code",
      "source": [
        "loan_df['revol_util_groups'] = pd.cut(loan_df['revol_util'], bins=5,precision =0,labels=['0-20','20-40','40-60','60-80','80-100'])\n",
        "loan_df['total_acc_groups'] = pd.cut(loan_df['total_acc'], bins=5,precision =0,labels=['2-20','20-37','37-55','55-74','74-90'])\n",
        "loan_df['annual_inc_groups'] = pd.cut(loan_df['annual_inc'], bins=5,precision =0,labels =['3k-31k','31k-58k','58k-85k','85k-112k','112k-140k'])\n",
        "loan_df['int_rate_groups'] = pd.cut(loan_df['int_rate'], bins=5,precision =0,labels=['5%-9%','9%-13%','13%-17%','17%-21%','21%-24%'])\n",
        "loan_df['open_acc_groups'] = pd.cut(loan_df['open_acc'],bins = 5,precision =0,labels=['2-10','10-19','19-27','27-36','36-44'])\n"
      ],
      "metadata": {
        "id": "PcmTBAwOBleJ"
      },
      "execution_count": 67,
      "outputs": []
    },
    {
      "cell_type": "code",
      "source": [
        "loan_df.head()"
      ],
      "metadata": {
        "colab": {
          "base_uri": "https://localhost:8080/",
          "height": 386
        },
        "id": "xIUUTY8IBu-Z",
        "outputId": "dca2edd7-da8b-48fb-e09d-506c08913b75"
      },
      "execution_count": 68,
      "outputs": [
        {
          "output_type": "execute_result",
          "data": {
            "text/plain": [
              "   loan_amnt  funded_amnt_inv        term  int_rate  installment grade  \\\n",
              "0       5000           4975.0   36 months     10.65       162.87     B   \n",
              "1       2500           2500.0   60 months     15.27        59.83     C   \n",
              "2       2400           2400.0   36 months     15.96        84.33     C   \n",
              "3      10000          10000.0   36 months     13.49       339.31     C   \n",
              "5       5000           5000.0   36 months      7.90       156.46     A   \n",
              "\n",
              "   sub_grade  emp_length home_ownership  annual_inc  ... inq_last_6mths  \\\n",
              "0        2.0          10           RENT     24000.0  ...              1   \n",
              "1        4.0           0           RENT     30000.0  ...              5   \n",
              "2        5.0          10           RENT     12252.0  ...              2   \n",
              "3        1.0          10           RENT     49200.0  ...              1   \n",
              "5        4.0           3           RENT     36000.0  ...              3   \n",
              "\n",
              "  open_acc pub_rec revol_util  total_acc revol_util_groups  total_acc_groups  \\\n",
              "0        3       0       83.7          9            80-100              2-20   \n",
              "1        3       0        9.4          4              0-20              2-20   \n",
              "2        2       0       98.5         10            80-100              2-20   \n",
              "3       10       0       21.0         37             20-40             20-37   \n",
              "5        9       0       28.3         12             20-40              2-20   \n",
              "\n",
              "   annual_inc_groups  int_rate_groups  open_acc_groups  \n",
              "0             3k-31k           9%-13%             2-10  \n",
              "1             3k-31k          13%-17%             2-10  \n",
              "2             3k-31k          13%-17%             2-10  \n",
              "3             3k-31k          13%-17%             2-10  \n",
              "5             3k-31k            5%-9%             2-10  \n",
              "\n",
              "[5 rows x 26 columns]"
            ],
            "text/html": [
              "\n",
              "  <div id=\"df-fc274f32-e53c-4689-a44f-d3c84b6f54c1\">\n",
              "    <div class=\"colab-df-container\">\n",
              "      <div>\n",
              "<style scoped>\n",
              "    .dataframe tbody tr th:only-of-type {\n",
              "        vertical-align: middle;\n",
              "    }\n",
              "\n",
              "    .dataframe tbody tr th {\n",
              "        vertical-align: top;\n",
              "    }\n",
              "\n",
              "    .dataframe thead th {\n",
              "        text-align: right;\n",
              "    }\n",
              "</style>\n",
              "<table border=\"1\" class=\"dataframe\">\n",
              "  <thead>\n",
              "    <tr style=\"text-align: right;\">\n",
              "      <th></th>\n",
              "      <th>loan_amnt</th>\n",
              "      <th>funded_amnt_inv</th>\n",
              "      <th>term</th>\n",
              "      <th>int_rate</th>\n",
              "      <th>installment</th>\n",
              "      <th>grade</th>\n",
              "      <th>sub_grade</th>\n",
              "      <th>emp_length</th>\n",
              "      <th>home_ownership</th>\n",
              "      <th>annual_inc</th>\n",
              "      <th>...</th>\n",
              "      <th>inq_last_6mths</th>\n",
              "      <th>open_acc</th>\n",
              "      <th>pub_rec</th>\n",
              "      <th>revol_util</th>\n",
              "      <th>total_acc</th>\n",
              "      <th>revol_util_groups</th>\n",
              "      <th>total_acc_groups</th>\n",
              "      <th>annual_inc_groups</th>\n",
              "      <th>int_rate_groups</th>\n",
              "      <th>open_acc_groups</th>\n",
              "    </tr>\n",
              "  </thead>\n",
              "  <tbody>\n",
              "    <tr>\n",
              "      <th>0</th>\n",
              "      <td>5000</td>\n",
              "      <td>4975.0</td>\n",
              "      <td>36 months</td>\n",
              "      <td>10.65</td>\n",
              "      <td>162.87</td>\n",
              "      <td>B</td>\n",
              "      <td>2.0</td>\n",
              "      <td>10</td>\n",
              "      <td>RENT</td>\n",
              "      <td>24000.0</td>\n",
              "      <td>...</td>\n",
              "      <td>1</td>\n",
              "      <td>3</td>\n",
              "      <td>0</td>\n",
              "      <td>83.7</td>\n",
              "      <td>9</td>\n",
              "      <td>80-100</td>\n",
              "      <td>2-20</td>\n",
              "      <td>3k-31k</td>\n",
              "      <td>9%-13%</td>\n",
              "      <td>2-10</td>\n",
              "    </tr>\n",
              "    <tr>\n",
              "      <th>1</th>\n",
              "      <td>2500</td>\n",
              "      <td>2500.0</td>\n",
              "      <td>60 months</td>\n",
              "      <td>15.27</td>\n",
              "      <td>59.83</td>\n",
              "      <td>C</td>\n",
              "      <td>4.0</td>\n",
              "      <td>0</td>\n",
              "      <td>RENT</td>\n",
              "      <td>30000.0</td>\n",
              "      <td>...</td>\n",
              "      <td>5</td>\n",
              "      <td>3</td>\n",
              "      <td>0</td>\n",
              "      <td>9.4</td>\n",
              "      <td>4</td>\n",
              "      <td>0-20</td>\n",
              "      <td>2-20</td>\n",
              "      <td>3k-31k</td>\n",
              "      <td>13%-17%</td>\n",
              "      <td>2-10</td>\n",
              "    </tr>\n",
              "    <tr>\n",
              "      <th>2</th>\n",
              "      <td>2400</td>\n",
              "      <td>2400.0</td>\n",
              "      <td>36 months</td>\n",
              "      <td>15.96</td>\n",
              "      <td>84.33</td>\n",
              "      <td>C</td>\n",
              "      <td>5.0</td>\n",
              "      <td>10</td>\n",
              "      <td>RENT</td>\n",
              "      <td>12252.0</td>\n",
              "      <td>...</td>\n",
              "      <td>2</td>\n",
              "      <td>2</td>\n",
              "      <td>0</td>\n",
              "      <td>98.5</td>\n",
              "      <td>10</td>\n",
              "      <td>80-100</td>\n",
              "      <td>2-20</td>\n",
              "      <td>3k-31k</td>\n",
              "      <td>13%-17%</td>\n",
              "      <td>2-10</td>\n",
              "    </tr>\n",
              "    <tr>\n",
              "      <th>3</th>\n",
              "      <td>10000</td>\n",
              "      <td>10000.0</td>\n",
              "      <td>36 months</td>\n",
              "      <td>13.49</td>\n",
              "      <td>339.31</td>\n",
              "      <td>C</td>\n",
              "      <td>1.0</td>\n",
              "      <td>10</td>\n",
              "      <td>RENT</td>\n",
              "      <td>49200.0</td>\n",
              "      <td>...</td>\n",
              "      <td>1</td>\n",
              "      <td>10</td>\n",
              "      <td>0</td>\n",
              "      <td>21.0</td>\n",
              "      <td>37</td>\n",
              "      <td>20-40</td>\n",
              "      <td>20-37</td>\n",
              "      <td>3k-31k</td>\n",
              "      <td>13%-17%</td>\n",
              "      <td>2-10</td>\n",
              "    </tr>\n",
              "    <tr>\n",
              "      <th>5</th>\n",
              "      <td>5000</td>\n",
              "      <td>5000.0</td>\n",
              "      <td>36 months</td>\n",
              "      <td>7.90</td>\n",
              "      <td>156.46</td>\n",
              "      <td>A</td>\n",
              "      <td>4.0</td>\n",
              "      <td>3</td>\n",
              "      <td>RENT</td>\n",
              "      <td>36000.0</td>\n",
              "      <td>...</td>\n",
              "      <td>3</td>\n",
              "      <td>9</td>\n",
              "      <td>0</td>\n",
              "      <td>28.3</td>\n",
              "      <td>12</td>\n",
              "      <td>20-40</td>\n",
              "      <td>2-20</td>\n",
              "      <td>3k-31k</td>\n",
              "      <td>5%-9%</td>\n",
              "      <td>2-10</td>\n",
              "    </tr>\n",
              "  </tbody>\n",
              "</table>\n",
              "<p>5 rows × 26 columns</p>\n",
              "</div>\n",
              "      <button class=\"colab-df-convert\" onclick=\"convertToInteractive('df-fc274f32-e53c-4689-a44f-d3c84b6f54c1')\"\n",
              "              title=\"Convert this dataframe to an interactive table.\"\n",
              "              style=\"display:none;\">\n",
              "        \n",
              "  <svg xmlns=\"http://www.w3.org/2000/svg\" height=\"24px\"viewBox=\"0 0 24 24\"\n",
              "       width=\"24px\">\n",
              "    <path d=\"M0 0h24v24H0V0z\" fill=\"none\"/>\n",
              "    <path d=\"M18.56 5.44l.94 2.06.94-2.06 2.06-.94-2.06-.94-.94-2.06-.94 2.06-2.06.94zm-11 1L8.5 8.5l.94-2.06 2.06-.94-2.06-.94L8.5 2.5l-.94 2.06-2.06.94zm10 10l.94 2.06.94-2.06 2.06-.94-2.06-.94-.94-2.06-.94 2.06-2.06.94z\"/><path d=\"M17.41 7.96l-1.37-1.37c-.4-.4-.92-.59-1.43-.59-.52 0-1.04.2-1.43.59L10.3 9.45l-7.72 7.72c-.78.78-.78 2.05 0 2.83L4 21.41c.39.39.9.59 1.41.59.51 0 1.02-.2 1.41-.59l7.78-7.78 2.81-2.81c.8-.78.8-2.07 0-2.86zM5.41 20L4 18.59l7.72-7.72 1.47 1.35L5.41 20z\"/>\n",
              "  </svg>\n",
              "      </button>\n",
              "      \n",
              "  <style>\n",
              "    .colab-df-container {\n",
              "      display:flex;\n",
              "      flex-wrap:wrap;\n",
              "      gap: 12px;\n",
              "    }\n",
              "\n",
              "    .colab-df-convert {\n",
              "      background-color: #E8F0FE;\n",
              "      border: none;\n",
              "      border-radius: 50%;\n",
              "      cursor: pointer;\n",
              "      display: none;\n",
              "      fill: #1967D2;\n",
              "      height: 32px;\n",
              "      padding: 0 0 0 0;\n",
              "      width: 32px;\n",
              "    }\n",
              "\n",
              "    .colab-df-convert:hover {\n",
              "      background-color: #E2EBFA;\n",
              "      box-shadow: 0px 1px 2px rgba(60, 64, 67, 0.3), 0px 1px 3px 1px rgba(60, 64, 67, 0.15);\n",
              "      fill: #174EA6;\n",
              "    }\n",
              "\n",
              "    [theme=dark] .colab-df-convert {\n",
              "      background-color: #3B4455;\n",
              "      fill: #D2E3FC;\n",
              "    }\n",
              "\n",
              "    [theme=dark] .colab-df-convert:hover {\n",
              "      background-color: #434B5C;\n",
              "      box-shadow: 0px 1px 3px 1px rgba(0, 0, 0, 0.15);\n",
              "      filter: drop-shadow(0px 1px 2px rgba(0, 0, 0, 0.3));\n",
              "      fill: #FFFFFF;\n",
              "    }\n",
              "  </style>\n",
              "\n",
              "      <script>\n",
              "        const buttonEl =\n",
              "          document.querySelector('#df-fc274f32-e53c-4689-a44f-d3c84b6f54c1 button.colab-df-convert');\n",
              "        buttonEl.style.display =\n",
              "          google.colab.kernel.accessAllowed ? 'block' : 'none';\n",
              "\n",
              "        async function convertToInteractive(key) {\n",
              "          const element = document.querySelector('#df-fc274f32-e53c-4689-a44f-d3c84b6f54c1');\n",
              "          const dataTable =\n",
              "            await google.colab.kernel.invokeFunction('convertToInteractive',\n",
              "                                                     [key], {});\n",
              "          if (!dataTable) return;\n",
              "\n",
              "          const docLinkHtml = 'Like what you see? Visit the ' +\n",
              "            '<a target=\"_blank\" href=https://colab.research.google.com/notebooks/data_table.ipynb>data table notebook</a>'\n",
              "            + ' to learn more about interactive tables.';\n",
              "          element.innerHTML = '';\n",
              "          dataTable['output_type'] = 'display_data';\n",
              "          await google.colab.output.renderOutput(dataTable, element);\n",
              "          const docLink = document.createElement('div');\n",
              "          docLink.innerHTML = docLinkHtml;\n",
              "          element.appendChild(docLink);\n",
              "        }\n",
              "      </script>\n",
              "    </div>\n",
              "  </div>\n",
              "  "
            ]
          },
          "metadata": {},
          "execution_count": 68
        }
      ]
    },
    {
      "cell_type": "markdown",
      "source": [
        "\n",
        "Analyzing interest rate wrt the interest rate bins created ,open_acc,revol_util,total_acc,annual_inc"
      ],
      "metadata": {
        "id": "tyNWmsfdDtsN"
      }
    },
    {
      "cell_type": "code",
      "source": [
        "fig, ax = plt.subplots(figsize = (15,10))\n",
        "plt.subplot(221)\n",
        "sns.countplot(x='int_rate_groups', data=loan_df[loan_df.loan_status == 'Charged Off'])\n",
        "plt.xlabel('Interest Rate')\n",
        "plt.subplot(222)\n",
        "sns.countplot(x='emp_length', data=loan_df[loan_df.loan_status == 'Charged Off'])\n",
        "\n",
        "\n",
        "fig, ax = plt.subplots(figsize = (7,5))\n",
        "ax.set_yscale('log')\n",
        "sns.countplot(x='open_acc_groups', data=loan_df[loan_df.loan_status == 'Charged Off'])\n",
        "\n",
        "sns.countplot(x='revol_util_groups', data=loan_df[loan_df.loan_status == 'Charged Off'])\n",
        "\n",
        "\n",
        "\n",
        "fig, ax = plt.subplots(figsize = (8,6))\n",
        "ax.set_yscale('log')\n",
        "sns.countplot(x='total_acc_groups', data=loan_df[loan_df.loan_status == 'Charged Off'])\n",
        "\n",
        "\n",
        "\n",
        "\n",
        "fig, ax = plt.subplots(figsize = (10,6))\n",
        "sns.countplot(x='annual_inc_groups', data=loan_df[loan_df.loan_status == 'Charged Off'])\n",
        "\n",
        "\n",
        "\n",
        "\n",
        "\n",
        "sns.countplot(y='term', data=loan_df[loan_df['loan_status']=='Charged Off'])\n",
        "\n",
        "\n",
        "\n",
        "\n",
        "fig,ax = plt.subplots(figsize = (7,5))\n",
        "ax.set_yscale('log')\n",
        "sns.countplot(x='pub_rec', data=loan_df[loan_df['loan_status']=='Charged Off'])\n",
        "\n",
        "\n",
        "\n",
        "\n",
        "fig,ax = plt.subplots(figsize = (10,8))\n",
        "ax.set_yscale('log')\n",
        "sns.countplot(x='inq_last_6mths', data=loan_df[loan_df['loan_status']=='Charged Off'])\n",
        "\n",
        "\n",
        "\n",
        "sns.countplot(x='verification_status', data=loan_df[loan_df['loan_status']=='Charged Off'])\n",
        "\n",
        "\n",
        "\n",
        "     \n",
        "\n",
        "\n",
        "     \n",
        "\n",
        "     \n",
        "\n",
        "     \n",
        "\n",
        "\n",
        "     \n",
        "\n",
        "     \n",
        "\n"
      ],
      "metadata": {
        "colab": {
          "base_uri": "https://localhost:8080/",
          "height": 1000
        },
        "id": "cAC3R9KXD4C3",
        "outputId": "a2a33aaa-9f5e-4864-9f01-4aa9ec353391"
      },
      "execution_count": 72,
      "outputs": [
        {
          "output_type": "execute_result",
          "data": {
            "text/plain": [
              "<matplotlib.axes._subplots.AxesSubplot at 0x7f316c9c3ac0>"
            ]
          },
          "metadata": {},
          "execution_count": 72
        },
        {
          "output_type": "display_data",
          "data": {
            "text/plain": [
              "<Figure size 1080x720 with 2 Axes>"
            ],
            "image/png": "[encoded data removed]"
          },
          "metadata": {
            "needs_background": "light"
          }
        },
        {
          "output_type": "display_data",
          "data": {
            "text/plain": [
              "<Figure size 504x360 with 1 Axes>"
            ],
            "image/png": "[encoded data removed]"
          },
          "metadata": {
            "needs_background": "light"
          }
        },
        {
          "output_type": "display_data",
          "data": {
            "text/plain": [
              "<Figure size 576x432 with 1 Axes>"
            ],
            "image/png": "[encoded data removed]"
          },
          "metadata": {
            "needs_background": "light"
          }
        },
        {
          "output_type": "display_data",
          "data": {
            "text/plain": [
              "<Figure size 720x432 with 1 Axes>"
            ],
            "image/png": "[encoded data removed]"
          },
          "metadata": {
            "needs_background": "light"
          }
        },
        {
          "output_type": "display_data",
          "data": {
            "text/plain": [
              "<Figure size 504x360 with 1 Axes>"
            ],
            "image/png": "[encoded data removed]"
          },
          "metadata": {
            "needs_background": "light"
          }
        },
        {
          "output_type": "display_data",
          "data": {
            "text/plain": [
              "<Figure size 720x576 with 1 Axes>"
            ],
            "image/png": "[encoded data removed]"
          },
          "metadata": {
            "needs_background": "light"
          }
        }
      ]
    },
    {
      "cell_type": "markdown",
      "source": [
        "\n",
        "Analyzing by issued month and year"
      ],
      "metadata": {
        "id": "MTep_JewGpS2"
      }
    },
    {
      "cell_type": "code",
      "source": [
        "## Extracting month and year\n",
        "df_month_year = loan_df['issue_d'].str.partition(\"-\", True)     \n",
        "loan_df['issue_month']=df_month_year[0]                       \n",
        "loan_df['issue_year']='20' + df_month_year[2]    "
      ],
      "metadata": {
        "id": "FJBuUn1IEA_S"
      },
      "execution_count": 73,
      "outputs": []
    },
    {
      "cell_type": "code",
      "source": [
        "loan_df.head()"
      ],
      "metadata": {
        "colab": {
          "base_uri": "https://localhost:8080/",
          "height": 386
        },
        "id": "liEFq5VOGybo",
        "outputId": "cca1fb73-5200-4035-f490-96de1644f952"
      },
      "execution_count": 74,
      "outputs": [
        {
          "output_type": "execute_result",
          "data": {
            "text/plain": [
              "   loan_amnt  funded_amnt_inv        term  int_rate  installment grade  \\\n",
              "0       5000           4975.0   36 months     10.65       162.87     B   \n",
              "1       2500           2500.0   60 months     15.27        59.83     C   \n",
              "2       2400           2400.0   36 months     15.96        84.33     C   \n",
              "3      10000          10000.0   36 months     13.49       339.31     C   \n",
              "5       5000           5000.0   36 months      7.90       156.46     A   \n",
              "\n",
              "   sub_grade  emp_length home_ownership  annual_inc  ... pub_rec revol_util  \\\n",
              "0        2.0          10           RENT     24000.0  ...       0       83.7   \n",
              "1        4.0           0           RENT     30000.0  ...       0        9.4   \n",
              "2        5.0          10           RENT     12252.0  ...       0       98.5   \n",
              "3        1.0          10           RENT     49200.0  ...       0       21.0   \n",
              "5        4.0           3           RENT     36000.0  ...       0       28.3   \n",
              "\n",
              "  total_acc revol_util_groups  total_acc_groups annual_inc_groups  \\\n",
              "0         9            80-100              2-20            3k-31k   \n",
              "1         4              0-20              2-20            3k-31k   \n",
              "2        10            80-100              2-20            3k-31k   \n",
              "3        37             20-40             20-37            3k-31k   \n",
              "5        12             20-40              2-20            3k-31k   \n",
              "\n",
              "   int_rate_groups  open_acc_groups  issue_month  issue_year  \n",
              "0           9%-13%             2-10          Dec        2011  \n",
              "1          13%-17%             2-10          Dec        2011  \n",
              "2          13%-17%             2-10          Dec        2011  \n",
              "3          13%-17%             2-10          Dec        2011  \n",
              "5            5%-9%             2-10          Dec        2011  \n",
              "\n",
              "[5 rows x 28 columns]"
            ],
            "text/html": [
              "\n",
              "  <div id=\"df-7f5bc23b-9ac6-4bb6-b553-4c17276f66ca\">\n",
              "    <div class=\"colab-df-container\">\n",
              "      <div>\n",
              "<style scoped>\n",
              "    .dataframe tbody tr th:only-of-type {\n",
              "        vertical-align: middle;\n",
              "    }\n",
              "\n",
              "    .dataframe tbody tr th {\n",
              "        vertical-align: top;\n",
              "    }\n",
              "\n",
              "    .dataframe thead th {\n",
              "        text-align: right;\n",
              "    }\n",
              "</style>\n",
              "<table border=\"1\" class=\"dataframe\">\n",
              "  <thead>\n",
              "    <tr style=\"text-align: right;\">\n",
              "      <th></th>\n",
              "      <th>loan_amnt</th>\n",
              "      <th>funded_amnt_inv</th>\n",
              "      <th>term</th>\n",
              "      <th>int_rate</th>\n",
              "      <th>installment</th>\n",
              "      <th>grade</th>\n",
              "      <th>sub_grade</th>\n",
              "      <th>emp_length</th>\n",
              "      <th>home_ownership</th>\n",
              "      <th>annual_inc</th>\n",
              "      <th>...</th>\n",
              "      <th>pub_rec</th>\n",
              "      <th>revol_util</th>\n",
              "      <th>total_acc</th>\n",
              "      <th>revol_util_groups</th>\n",
              "      <th>total_acc_groups</th>\n",
              "      <th>annual_inc_groups</th>\n",
              "      <th>int_rate_groups</th>\n",
              "      <th>open_acc_groups</th>\n",
              "      <th>issue_month</th>\n",
              "      <th>issue_year</th>\n",
              "    </tr>\n",
              "  </thead>\n",
              "  <tbody>\n",
              "    <tr>\n",
              "      <th>0</th>\n",
              "      <td>5000</td>\n",
              "      <td>4975.0</td>\n",
              "      <td>36 months</td>\n",
              "      <td>10.65</td>\n",
              "      <td>162.87</td>\n",
              "      <td>B</td>\n",
              "      <td>2.0</td>\n",
              "      <td>10</td>\n",
              "      <td>RENT</td>\n",
              "      <td>24000.0</td>\n",
              "      <td>...</td>\n",
              "      <td>0</td>\n",
              "      <td>83.7</td>\n",
              "      <td>9</td>\n",
              "      <td>80-100</td>\n",
              "      <td>2-20</td>\n",
              "      <td>3k-31k</td>\n",
              "      <td>9%-13%</td>\n",
              "      <td>2-10</td>\n",
              "      <td>Dec</td>\n",
              "      <td>2011</td>\n",
              "    </tr>\n",
              "    <tr>\n",
              "      <th>1</th>\n",
              "      <td>2500</td>\n",
              "      <td>2500.0</td>\n",
              "      <td>60 months</td>\n",
              "      <td>15.27</td>\n",
              "      <td>59.83</td>\n",
              "      <td>C</td>\n",
              "      <td>4.0</td>\n",
              "      <td>0</td>\n",
              "      <td>RENT</td>\n",
              "      <td>30000.0</td>\n",
              "      <td>...</td>\n",
              "      <td>0</td>\n",
              "      <td>9.4</td>\n",
              "      <td>4</td>\n",
              "      <td>0-20</td>\n",
              "      <td>2-20</td>\n",
              "      <td>3k-31k</td>\n",
              "      <td>13%-17%</td>\n",
              "      <td>2-10</td>\n",
              "      <td>Dec</td>\n",
              "      <td>2011</td>\n",
              "    </tr>\n",
              "    <tr>\n",
              "      <th>2</th>\n",
              "      <td>2400</td>\n",
              "      <td>2400.0</td>\n",
              "      <td>36 months</td>\n",
              "      <td>15.96</td>\n",
              "      <td>84.33</td>\n",
              "      <td>C</td>\n",
              "      <td>5.0</td>\n",
              "      <td>10</td>\n",
              "      <td>RENT</td>\n",
              "      <td>12252.0</td>\n",
              "      <td>...</td>\n",
              "      <td>0</td>\n",
              "      <td>98.5</td>\n",
              "      <td>10</td>\n",
              "      <td>80-100</td>\n",
              "      <td>2-20</td>\n",
              "      <td>3k-31k</td>\n",
              "      <td>13%-17%</td>\n",
              "      <td>2-10</td>\n",
              "      <td>Dec</td>\n",
              "      <td>2011</td>\n",
              "    </tr>\n",
              "    <tr>\n",
              "      <th>3</th>\n",
              "      <td>10000</td>\n",
              "      <td>10000.0</td>\n",
              "      <td>36 months</td>\n",
              "      <td>13.49</td>\n",
              "      <td>339.31</td>\n",
              "      <td>C</td>\n",
              "      <td>1.0</td>\n",
              "      <td>10</td>\n",
              "      <td>RENT</td>\n",
              "      <td>49200.0</td>\n",
              "      <td>...</td>\n",
              "      <td>0</td>\n",
              "      <td>21.0</td>\n",
              "      <td>37</td>\n",
              "      <td>20-40</td>\n",
              "      <td>20-37</td>\n",
              "      <td>3k-31k</td>\n",
              "      <td>13%-17%</td>\n",
              "      <td>2-10</td>\n",
              "      <td>Dec</td>\n",
              "      <td>2011</td>\n",
              "    </tr>\n",
              "    <tr>\n",
              "      <th>5</th>\n",
              "      <td>5000</td>\n",
              "      <td>5000.0</td>\n",
              "      <td>36 months</td>\n",
              "      <td>7.90</td>\n",
              "      <td>156.46</td>\n",
              "      <td>A</td>\n",
              "      <td>4.0</td>\n",
              "      <td>3</td>\n",
              "      <td>RENT</td>\n",
              "      <td>36000.0</td>\n",
              "      <td>...</td>\n",
              "      <td>0</td>\n",
              "      <td>28.3</td>\n",
              "      <td>12</td>\n",
              "      <td>20-40</td>\n",
              "      <td>2-20</td>\n",
              "      <td>3k-31k</td>\n",
              "      <td>5%-9%</td>\n",
              "      <td>2-10</td>\n",
              "      <td>Dec</td>\n",
              "      <td>2011</td>\n",
              "    </tr>\n",
              "  </tbody>\n",
              "</table>\n",
              "<p>5 rows × 28 columns</p>\n",
              "</div>\n",
              "      <button class=\"colab-df-convert\" onclick=\"convertToInteractive('df-7f5bc23b-9ac6-4bb6-b553-4c17276f66ca')\"\n",
              "              title=\"Convert this dataframe to an interactive table.\"\n",
              "              style=\"display:none;\">\n",
              "        \n",
              "  <svg xmlns=\"http://www.w3.org/2000/svg\" height=\"24px\"viewBox=\"0 0 24 24\"\n",
              "       width=\"24px\">\n",
              "    <path d=\"M0 0h24v24H0V0z\" fill=\"none\"/>\n",
              "    <path d=\"M18.56 5.44l.94 2.06.94-2.06 2.06-.94-2.06-.94-.94-2.06-.94 2.06-2.06.94zm-11 1L8.5 8.5l.94-2.06 2.06-.94-2.06-.94L8.5 2.5l-.94 2.06-2.06.94zm10 10l.94 2.06.94-2.06 2.06-.94-2.06-.94-.94-2.06-.94 2.06-2.06.94z\"/><path d=\"M17.41 7.96l-1.37-1.37c-.4-.4-.92-.59-1.43-.59-.52 0-1.04.2-1.43.59L10.3 9.45l-7.72 7.72c-.78.78-.78 2.05 0 2.83L4 21.41c.39.39.9.59 1.41.59.51 0 1.02-.2 1.41-.59l7.78-7.78 2.81-2.81c.8-.78.8-2.07 0-2.86zM5.41 20L4 18.59l7.72-7.72 1.47 1.35L5.41 20z\"/>\n",
              "  </svg>\n",
              "      </button>\n",
              "      \n",
              "  <style>\n",
              "    .colab-df-container {\n",
              "      display:flex;\n",
              "      flex-wrap:wrap;\n",
              "      gap: 12px;\n",
              "    }\n",
              "\n",
              "    .colab-df-convert {\n",
              "      background-color: #E8F0FE;\n",
              "      border: none;\n",
              "      border-radius: 50%;\n",
              "      cursor: pointer;\n",
              "      display: none;\n",
              "      fill: #1967D2;\n",
              "      height: 32px;\n",
              "      padding: 0 0 0 0;\n",
              "      width: 32px;\n",
              "    }\n",
              "\n",
              "    .colab-df-convert:hover {\n",
              "      background-color: #E2EBFA;\n",
              "      box-shadow: 0px 1px 2px rgba(60, 64, 67, 0.3), 0px 1px 3px 1px rgba(60, 64, 67, 0.15);\n",
              "      fill: #174EA6;\n",
              "    }\n",
              "\n",
              "    [theme=dark] .colab-df-convert {\n",
              "      background-color: #3B4455;\n",
              "      fill: #D2E3FC;\n",
              "    }\n",
              "\n",
              "    [theme=dark] .colab-df-convert:hover {\n",
              "      background-color: #434B5C;\n",
              "      box-shadow: 0px 1px 3px 1px rgba(0, 0, 0, 0.15);\n",
              "      filter: drop-shadow(0px 1px 2px rgba(0, 0, 0, 0.3));\n",
              "      fill: #FFFFFF;\n",
              "    }\n",
              "  </style>\n",
              "\n",
              "      <script>\n",
              "        const buttonEl =\n",
              "          document.querySelector('#df-7f5bc23b-9ac6-4bb6-b553-4c17276f66ca button.colab-df-convert');\n",
              "        buttonEl.style.display =\n",
              "          google.colab.kernel.accessAllowed ? 'block' : 'none';\n",
              "\n",
              "        async function convertToInteractive(key) {\n",
              "          const element = document.querySelector('#df-7f5bc23b-9ac6-4bb6-b553-4c17276f66ca');\n",
              "          const dataTable =\n",
              "            await google.colab.kernel.invokeFunction('convertToInteractive',\n",
              "                                                     [key], {});\n",
              "          if (!dataTable) return;\n",
              "\n",
              "          const docLinkHtml = 'Like what you see? Visit the ' +\n",
              "            '<a target=\"_blank\" href=https://colab.research.google.com/notebooks/data_table.ipynb>data table notebook</a>'\n",
              "            + ' to learn more about interactive tables.';\n",
              "          element.innerHTML = '';\n",
              "          dataTable['output_type'] = 'display_data';\n",
              "          await google.colab.output.renderOutput(dataTable, element);\n",
              "          const docLink = document.createElement('div');\n",
              "          docLink.innerHTML = docLinkHtml;\n",
              "          element.appendChild(docLink);\n",
              "        }\n",
              "      </script>\n",
              "    </div>\n",
              "  </div>\n",
              "  "
            ]
          },
          "metadata": {},
          "execution_count": 74
        }
      ]
    },
    {
      "cell_type": "code",
      "source": [
        "plt.figure(figsize=(15,15))\n",
        "plt.subplot(221)\n",
        "sns.countplot(x='issue_month', data=loan_df[loan_df['loan_status']=='Charged Off'])\n",
        "plt.subplot(222)\n",
        "sns.countplot(x='issue_year', data=loan_df[loan_df['loan_status']=='Charged Off'])\n"
      ],
      "metadata": {
        "colab": {
          "base_uri": "https://localhost:8080/",
          "height": 434
        },
        "id": "1QBqv4iIHLCp",
        "outputId": "e587b893-2d5b-4cd7-cbbf-824b8996e07e"
      },
      "execution_count": 75,
      "outputs": [
        {
          "output_type": "execute_result",
          "data": {
            "text/plain": [
              "<matplotlib.axes._subplots.AxesSubplot at 0x7f316c12d340>"
            ]
          },
          "metadata": {},
          "execution_count": 75
        },
        {
          "output_type": "display_data",
          "data": {
            "text/plain": [
              "<Figure size 1080x1080 with 2 Axes>"
            ],
            "image/png": "[encoded data removed]"
          },
          "metadata": {
            "needs_background": "light"
          }
        }
      ]
    },
    {
      "cell_type": "code",
      "source": [],
      "metadata": {
        "id": "X2sW-CevHOqS"
      },
      "execution_count": null,
      "outputs": []
    },
    {
      "cell_type": "markdown",
      "source": [
        "Maximum number of defaults occured when the loan was sanctioned/issued in Dec. Loan issued in the year 2011 were also as compared to other years\n",
        "\n",
        "\n",
        "> Analyzing installment,dti, loan_amnt\n",
        "\n"
      ],
      "metadata": {
        "id": "RTa1xlqgHgVj"
      }
    },
    {
      "cell_type": "code",
      "source": [
        "loan_df['installment_groups'] = pd.cut(loan_df['installment'], bins=10,precision =0,labels=['14-145','145-274','274-403','403-531','531-660','660-789','789-918','918-1047','1047-1176','1176-1305'])\n",
        "loan_df['funded_amnt_inv_group'] = pd.cut(loan_df['funded_amnt_inv'], bins=7,labels=['0-5k','5k-10k','10k-15k','15k-20k','20k-25k','25k-30k','30k-35k'])\n",
        "loan_df['loan_amnt_groups'] = pd.cut(loan_df['loan_amnt'], bins=7,precision =0,labels=['0-5k','5k-10k','10k-15k','15k-20k','20k-25k','25k-30k','30k-35k'])\n",
        "loan_df['dti_groups'] = pd.cut(loan_df['dti'], bins=5,precision =0,labels=['0-6','6-12','12-18','18-24','24-30'])\n",
        "\n",
        "fig,ax = plt.subplots(figsize = (12,5))\n",
        "ax.set_yscale('log')\n",
        "sns.countplot(x='funded_amnt_inv_group', data=loan_df[loan_df['loan_status']=='Charged Off'])\n",
        "\n",
        "\n",
        "\n",
        "fig,ax = plt.subplots(figsize = (15,6))\n",
        "ax.set_yscale('log')\n",
        "sns.countplot(x='loan_amnt_groups', data=loan_df[loan_df['loan_status']=='Charged Off'])\n",
        "\n",
        "sns.countplot(x='dti_groups', data=loan_df[loan_df['loan_status']=='Charged Off'])\n",
        "\n",
        "\n",
        "     \n",
        "\n"
      ],
      "metadata": {
        "colab": {
          "base_uri": "https://localhost:8080/",
          "height": 724
        },
        "id": "HVHrxEIjHlZP",
        "outputId": "019e4b43-46b9-4d1f-aa84-2a7e312acf36"
      },
      "execution_count": 78,
      "outputs": [
        {
          "output_type": "execute_result",
          "data": {
            "text/plain": [
              "<matplotlib.axes._subplots.AxesSubplot at 0x7f316c9825b0>"
            ]
          },
          "metadata": {},
          "execution_count": 78
        },
        {
          "output_type": "display_data",
          "data": {
            "text/plain": [
              "<Figure size 864x360 with 1 Axes>"
            ],
            "image/png": "[encoded data removed]"
          },
          "metadata": {
            "needs_background": "light"
          }
        },
        {
          "output_type": "display_data",
          "data": {
            "text/plain": [
              "<Figure size 1080x432 with 1 Axes>"
            ],
            "image/png": "[encoded data removed]"
          },
          "metadata": {
            "needs_background": "light"
          }
        }
      ]
    },
    {
      "cell_type": "code",
      "source": [
        "fig,ax = plt.subplots(figsize = (15,6))\n",
        "ax.set_yscale('log')\n",
        "sns.countplot(x='installment_groups', data=loan_df[loan_df['loan_status']=='Charged Off'])\n"
      ],
      "metadata": {
        "colab": {
          "base_uri": "https://localhost:8080/",
          "height": 406
        },
        "id": "Y3RZecVBIes9",
        "outputId": "713cb877-3a70-43f1-8c94-b0a00873b0de"
      },
      "execution_count": 79,
      "outputs": [
        {
          "output_type": "execute_result",
          "data": {
            "text/plain": [
              "<matplotlib.axes._subplots.AxesSubplot at 0x7f316c26ba90>"
            ]
          },
          "metadata": {},
          "execution_count": 79
        },
        {
          "output_type": "display_data",
          "data": {
            "text/plain": [
              "<Figure size 1080x432 with 1 Axes>"
            ],
            "image/png": "[encoded data removed]"
          },
          "metadata": {
            "needs_background": "light"
          }
        }
      ]
    },
    {
      "cell_type": "markdown",
      "source": [
        "# Observations"
      ],
      "metadata": {
        "id": "EVQsDm79IvQU"
      }
    },
    {
      "cell_type": "markdown",
      "source": [
        "The above analysis with respect to the charged off loans for each variable suggests the following. There is a more probability of defaulting when :\n",
        "\n",
        "    Applicants having house_ownership as 'RENT'\n",
        "    Applicants who use the loan to clear other debts\n",
        "    Applicants who receive interest at the rate of 13-17%\n",
        "    Applicants who have an income of range 31201 - 58402\n",
        "    Applicants who have 20-37 open_acc\n",
        "    Applicants with employement length of 10\n",
        "    When funded amount by investor is between 5000-10000\n",
        "    Loan amount is between 5429 - 10357\n",
        "    Dti is between 12-18\n",
        "    When monthly installments are between 145-274\n",
        "    Term of 36 months\n",
        "    When the loan status is Not verified\n",
        "    When the no of enquiries in last 6 months is 0\n",
        "    When the number of derogatory public records is 0\n",
        "    When the purpose is 'debt_consolidation'\n",
        "    Grade is 'B'\n",
        "    And a total grade of 'B5' level.\n"
      ],
      "metadata": {
        "id": "bFeJc7nVI0d5"
      }
    },
    {
      "cell_type": "markdown",
      "source": [
        "\n",
        "Also there is a very interesting observation from the date issued. The late months of an year indicated the high possibility of defaulting.\n",
        "\n",
        "    The high number of loan defaults in 2011 could be due to the financial crisis in USA (Assuming the data is of US origin)\n",
        "\n"
      ],
      "metadata": {
        "id": "QufxrOZiI6Km"
      }
    },
    {
      "cell_type": "markdown",
      "source": [
        "\n",
        "\n",
        "Analysing annual income with other columns for more insights\n",
        "\n",
        "#### Annual income vs loan purpose"
      ],
      "metadata": {
        "id": "K3Nv6gcGI-tG"
      }
    },
    {
      "cell_type": "code",
      "source": [
        "plt.figure(figsize=(10,10))\n",
        "sns.barplot(data =loan_df,x='annual_inc', y='purpose', hue ='loan_status',palette=\"deep\")\n",
        "plt.show()"
      ],
      "metadata": {
        "colab": {
          "base_uri": "https://localhost:8080/",
          "height": 606
        },
        "id": "gzpTKcuKJWSR",
        "outputId": "c7700ea1-9945-46c1-bc77-8fa65343d1f8"
      },
      "execution_count": 80,
      "outputs": [
        {
          "output_type": "display_data",
          "data": {
            "text/plain": [
              "<Figure size 720x720 with 1 Axes>"
            ],
            "image/png": "[encoded data removed]"
          },
          "metadata": {
            "needs_background": "light"
          }
        }
      ]
    },
    {
      "cell_type": "markdown",
      "source": [
        "\n",
        "Though the number of loans applied and defaulted are the highest in number for \"debt_consolation\", the annual income of those who applied isn't the highest.\n",
        "\n",
        "    Applicants with higher salary mostly applied loans for \"home_improvment\", \"house\", \"renewable_energy\" and \"small_businesses\"\n",
        "\n"
      ],
      "metadata": {
        "id": "4VaaGSuiJnj0"
      }
    },
    {
      "cell_type": "markdown",
      "source": [
        "#### Annual income vs home ownership"
      ],
      "metadata": {
        "id": "97zXirdUJorB"
      }
    },
    {
      "cell_type": "code",
      "source": [
        "plt.figure(figsize=(10,10))\n",
        "sns.barplot(data =loan_df,x='home_ownership', y='annual_inc', hue ='loan_status',palette=\"pastel\")\n",
        "plt.show()"
      ],
      "metadata": {
        "colab": {
          "base_uri": "https://localhost:8080/",
          "height": 606
        },
        "id": "wK0a801BJtEB",
        "outputId": "df3f901d-a8c0-4ba1-e2e7-4904e078b147"
      },
      "execution_count": 81,
      "outputs": [
        {
          "output_type": "display_data",
          "data": {
            "text/plain": [
              "<Figure size 720x720 with 1 Axes>"
            ],
            "image/png": "[encoded data removed]"
          },
          "metadata": {
            "needs_background": "light"
          }
        }
      ]
    },
    {
      "cell_type": "markdown",
      "source": [
        "#### Annual Income vs Loan amount"
      ],
      "metadata": {
        "id": "JSnRgh8VJ2_k"
      }
    },
    {
      "cell_type": "code",
      "source": [
        "sns.barplot(x = \"annual_inc_groups\", y = \"loan_amnt\", hue = 'loan_status', data = loan_df)"
      ],
      "metadata": {
        "colab": {
          "base_uri": "https://localhost:8080/",
          "height": 297
        },
        "id": "PBtWm6QxJ5MO",
        "outputId": "78a37d65-402f-4fb0-d340-f8a948686d26"
      },
      "execution_count": 82,
      "outputs": [
        {
          "output_type": "execute_result",
          "data": {
            "text/plain": [
              "<matplotlib.axes._subplots.AxesSubplot at 0x7f316c7b7340>"
            ]
          },
          "metadata": {},
          "execution_count": 82
        },
        {
          "output_type": "display_data",
          "data": {
            "text/plain": [
              "<Figure size 432x288 with 1 Axes>"
            ],
            "image/png": "[encoded data removed]"
          },
          "metadata": {
            "needs_background": "light"
          }
        }
      ]
    },
    {
      "cell_type": "markdown",
      "source": [
        "\n",
        "Across all the income groups, the loan_amount is higher for people who defaulted.\n",
        "\n",
        "#### Annual income vs int_rate"
      ],
      "metadata": {
        "id": "KA6mVnfQKJ_4"
      }
    },
    {
      "cell_type": "code",
      "source": [
        "plt.figure(figsize=(10,10))\n",
        "sns.barplot(data =loan_df,x='int_rate_groups', y='annual_inc', hue ='loan_status',palette=\"pastel\")\n",
        "plt.show()"
      ],
      "metadata": {
        "colab": {
          "base_uri": "https://localhost:8080/",
          "height": 606
        },
        "id": "82An8pYQKQwK",
        "outputId": "54ea7776-a32a-4994-8692-f4f265f426ef"
      },
      "execution_count": 83,
      "outputs": [
        {
          "output_type": "display_data",
          "data": {
            "text/plain": [
              "<Figure size 720x720 with 1 Axes>"
            ],
            "image/png": "[encoded data removed]"
          },
          "metadata": {
            "needs_background": "light"
          }
        }
      ]
    },
    {
      "cell_type": "markdown",
      "source": [
        "\n",
        "Analysing loan_amount with other columns for more insights\n",
        "\n",
        "#### Loan Amount vs Interest Rate"
      ],
      "metadata": {
        "id": "Vtoam8nNKbB6"
      }
    },
    {
      "cell_type": "code",
      "source": [
        "plt.figure(figsize=(10,10))\n",
        "sns.barplot(data =loan_df,x='loan_amnt_groups', y='int_rate', hue ='loan_status',palette=\"pastel\")\n",
        "plt.show()"
      ],
      "metadata": {
        "colab": {
          "base_uri": "https://localhost:8080/",
          "height": 606
        },
        "id": "2TIinES2KfPM",
        "outputId": "1d820a29-6b40-4e43-e116-a5c09a8ce058"
      },
      "execution_count": 84,
      "outputs": [
        {
          "output_type": "display_data",
          "data": {
            "text/plain": [
              "<Figure size 720x720 with 1 Axes>"
            ],
            "image/png": "[encoded data removed]"
          },
          "metadata": {
            "needs_background": "light"
          }
        }
      ]
    },
    {
      "cell_type": "markdown",
      "source": [
        "#### Loan vs Loan purpose"
      ],
      "metadata": {
        "id": "yDAmt8ArKuSI"
      }
    },
    {
      "cell_type": "code",
      "source": [
        "plt.figure(figsize=(10,10))\n",
        "sns.barplot(data =loan_df,x='loan_amnt', y='purpose', hue ='loan_status',palette=\"pastel\")\n",
        "plt.show()"
      ],
      "metadata": {
        "colab": {
          "base_uri": "https://localhost:8080/",
          "height": 606
        },
        "id": "N59sGTLPKxX7",
        "outputId": "bc950472-a58b-49db-fa57-cf68d9eda773"
      },
      "execution_count": 85,
      "outputs": [
        {
          "output_type": "display_data",
          "data": {
            "text/plain": [
              "<Figure size 720x720 with 1 Axes>"
            ],
            "image/png": "[encoded data removed]"
          },
          "metadata": {
            "needs_background": "light"
          }
        }
      ]
    },
    {
      "cell_type": "markdown",
      "source": [
        "#### Loan vs House Ownership"
      ],
      "metadata": {
        "id": "AHEaONMIK6jW"
      }
    },
    {
      "cell_type": "code",
      "source": [
        "plt.figure(figsize=(10,10))\n",
        "sns.barplot(data =loan_df,x='loan_amnt', y='home_ownership', hue ='loan_status',palette=\"pastel\")\n",
        "plt.show()"
      ],
      "metadata": {
        "colab": {
          "base_uri": "https://localhost:8080/",
          "height": 606
        },
        "id": "pByXAMzTK9Ha",
        "outputId": "3c8b37ca-c76a-489a-9258-a4c446fced7c"
      },
      "execution_count": 86,
      "outputs": [
        {
          "output_type": "display_data",
          "data": {
            "text/plain": [
              "<Figure size 720x720 with 1 Axes>"
            ],
            "image/png": "[encoded data removed]"
          },
          "metadata": {
            "needs_background": "light"
          }
        }
      ]
    },
    {
      "cell_type": "markdown",
      "source": [
        "#### Loan amount vs month issued and year issued"
      ],
      "metadata": {
        "id": "Q16DlBdFLFt4"
      }
    },
    {
      "cell_type": "code",
      "source": [
        "plt.figure(figsize=(20,20))\n",
        "plt.subplot(221)\n",
        "sns.lineplot(data =loan_df,y='loan_amnt', x='issue_month', hue ='loan_status',palette=\"pastel\")\n",
        "plt.subplot(222)\n",
        "sns.lineplot(data =loan_df,y='loan_amnt', x='issue_year', hue ='loan_status',palette=\"pastel\")\n"
      ],
      "metadata": {
        "colab": {
          "base_uri": "https://localhost:8080/",
          "height": 540
        },
        "id": "LlESmGTELIhA",
        "outputId": "1f0b958c-a463-4c7f-9de2-6b93bc2ab308"
      },
      "execution_count": 87,
      "outputs": [
        {
          "output_type": "execute_result",
          "data": {
            "text/plain": [
              "<matplotlib.axes._subplots.AxesSubplot at 0x7f316cb8ad90>"
            ]
          },
          "metadata": {},
          "execution_count": 87
        },
        {
          "output_type": "display_data",
          "data": {
            "text/plain": [
              "<Figure size 1440x1440 with 2 Axes>"
            ],
            "image/png": "[encoded data removed]"
          },
          "metadata": {
            "needs_background": "light"
          }
        }
      ]
    },
    {
      "cell_type": "markdown",
      "source": [
        "#### Loan amount vs Grade"
      ],
      "metadata": {
        "id": "dB0hOUVJLWEq"
      }
    },
    {
      "cell_type": "code",
      "source": [
        "plt.figure(figsize=(10,10))\n",
        "sns.barplot(data =loan_df,x='loan_amnt', y='grade', hue ='loan_status',palette=\"pastel\", order=['A','B','C','D','E','F','G'])\n",
        "plt.show()"
      ],
      "metadata": {
        "colab": {
          "base_uri": "https://localhost:8080/",
          "height": 606
        },
        "id": "zPeNkTZNLZvv",
        "outputId": "7e946f8b-c6ce-40bd-eb7c-38f796b3ae6a"
      },
      "execution_count": 88,
      "outputs": [
        {
          "output_type": "display_data",
          "data": {
            "text/plain": [
              "<Figure size 720x720 with 1 Axes>"
            ],
            "image/png": "[encoded data removed]"
          },
          "metadata": {
            "needs_background": "light"
          }
        }
      ]
    },
    {
      "cell_type": "code",
      "source": [
        "plt.figure(figsize=(20,20))\n",
        "plt.subplot(221)\n",
        "sns.barplot(data =loan_df,y='loan_amnt', x='emp_length', hue ='loan_status',palette=\"pastel\")\n",
        "plt.subplot(222)\n",
        "sns.barplot(data =loan_df,y='loan_amnt', x='verification_status', hue ='loan_status',palette=\"pastel\")"
      ],
      "metadata": {
        "colab": {
          "base_uri": "https://localhost:8080/",
          "height": 425
        },
        "id": "NCRA5KtuLiFD",
        "outputId": "d442450b-56b7-4374-f1e2-7d8be11f9bc5"
      },
      "execution_count": 89,
      "outputs": [
        {
          "output_type": "execute_result",
          "data": {
            "text/plain": [
              "<matplotlib.axes._subplots.AxesSubplot at 0x7f316a08d040>"
            ]
          },
          "metadata": {},
          "execution_count": 89
        },
        {
          "output_type": "display_data",
          "data": {
            "text/plain": [
              "<Figure size 1440x1440 with 2 Axes>"
            ],
            "image/png": "[encoded data removed]"
          },
          "metadata": {
            "needs_background": "light"
          }
        }
      ]
    },
    {
      "cell_type": "markdown",
      "source": [
        "\n",
        "Employees with longer working history got the loan approved for a higher amount.\n",
        "\n",
        "    Looking at the verification status data, \n",
        "    verified loan applications tend to have higher loan amount. \n",
        "    Which might indicate that the firms are first verifying the loans with higher values.\n",
        "\n"
      ],
      "metadata": {
        "id": "XZnCvIlwLsg5"
      }
    },
    {
      "cell_type": "markdown",
      "source": [
        "#### Grade vs interest rate"
      ],
      "metadata": {
        "id": "B1tooDr3Lt8g"
      }
    },
    {
      "cell_type": "code",
      "source": [
        "plt.figure(figsize=(10,10))\n",
        "sns.barplot(data =loan_df,x='int_rate', y='grade', hue ='loan_status',palette=\"pastel\", order=['A','B','C','D','E','F','G'])\n",
        "plt.show()"
      ],
      "metadata": {
        "colab": {
          "base_uri": "https://localhost:8080/",
          "height": 606
        },
        "id": "hzww_9YFL_fa",
        "outputId": "0a9b080c-abac-4a0f-f7bc-8e291a39b36a"
      },
      "execution_count": 90,
      "outputs": [
        {
          "output_type": "display_data",
          "data": {
            "text/plain": [
              "<Figure size 720x720 with 1 Axes>"
            ],
            "image/png": "[encoded data removed]"
          },
          "metadata": {
            "needs_background": "light"
          }
        }
      ]
    },
    {
      "cell_type": "markdown",
      "source": [
        "\n",
        "The interest rate for charged off loans is pretty high than that of fully paid loans in all the loan_amount groups.\n",
        "\n",
        "    This can be a pretty strong driving factor for loan defaulting.\n",
        "\n"
      ],
      "metadata": {
        "id": "xjlwxEFEMY2y"
      }
    },
    {
      "cell_type": "code",
      "source": [
        "sns.catplot(x = 'term', y = 'loan_amnt', data = loan_df,hue = 'loan_status', kind = 'bar')"
      ],
      "metadata": {
        "colab": {
          "base_uri": "https://localhost:8080/",
          "height": 386
        },
        "id": "apSpMogkMaPh",
        "outputId": "69356da1-d979-4007-f55b-db196d6f2087"
      },
      "execution_count": 91,
      "outputs": [
        {
          "output_type": "execute_result",
          "data": {
            "text/plain": [
              "<seaborn.axisgrid.FacetGrid at 0x7f316a09d760>"
            ]
          },
          "metadata": {},
          "execution_count": 91
        },
        {
          "output_type": "display_data",
          "data": {
            "text/plain": [
              "<Figure size 456.375x360 with 1 Axes>"
            ],
            "image/png": "[encoded data removed]"
          },
          "metadata": {
            "needs_background": "light"
          }
        }
      ]
    },
    {
      "cell_type": "markdown",
      "source": [
        "# Conclusion"
      ],
      "metadata": {
        "id": "B6KiALRpNQrB"
      }
    },
    {
      "cell_type": "markdown",
      "source": [
        "\n",
        "The above analysis with respect to the charged off loans. There is a more probability of defaulting when :\n",
        "\n",
        "    Applicants taking loan for 'home improvement' and have income of  60k -70k\n",
        "    Applicants whose home ownership is 'MORTGAGE and have loan of 14-16k\n",
        "    When grade is F and loan amount is between 15k-20k\n",
        "    When employment length is 10yrs and loan amount is 12k-14k\n",
        "    When the loan is verified and loan amount is above 16k\n",
        "    For grade G and interest rate above 20%\n",
        "    Applicants whose home ownership is 'MORTGAGE and have income of 60-70k\n",
        "    Applicants who receive interest at the rate of 21-24% and have an income of 70k-80k\n",
        "    Applicants who have taken a loan in the range 30k - 35k and are charged interest rate of 15-17.5 %\n",
        "    Applicants who have taken a loan for small business and the loan amount is greater than 14k\n",
        "\n",
        "\n"
      ],
      "metadata": {
        "id": "9hhqkqw1NL7X"
      }
    }
  ]
}